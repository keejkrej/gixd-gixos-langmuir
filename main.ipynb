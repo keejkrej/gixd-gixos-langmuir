{
 "cells": [
  {
   "cell_type": "code",
   "execution_count": 1604,
   "metadata": {},
   "outputs": [],
   "source": [
    "from pathlib import Path\n",
    "import pandas as pd\n",
    "import numpy as np\n",
    "import matplotlib.pyplot as plt\n",
    "import scipy"
   ]
  },
  {
   "cell_type": "code",
   "execution_count": 1605,
   "metadata": {},
   "outputs": [],
   "source": [
    "def get_data_path(df):\n",
    "    if 'sample' in df.columns and 'scan_id' in df.columns:\n",
    "        if len(df['sample'].unique()) == 1:\n",
    "            name = df['sample'].values[0]\n",
    "            scan_id_list = df['scan_id'].values\n",
    "            data_path = [Path('.') / str(name) / str(scan_id) for scan_id in scan_id_list]\n",
    "            return data_path\n",
    "    else:\n",
    "        raise ValueError('Multiple samples in metadata')"
   ]
  },
  {
   "cell_type": "code",
   "execution_count": 1606,
   "metadata": {},
   "outputs": [],
   "source": [
    "def get_data(data_path):\n",
    "    dat_files = list(data_path.glob('*.dat'))\n",
    "    scan_id = str(data_path).split('/')[-1]\n",
    "    \n",
    "    if len(dat_files) != 3:\n",
    "        raise ValueError('Missing data files')\n",
    "    else:\n",
    "        for dat_file in dat_files:\n",
    "            if dat_file.name.endswith('_I.dat'):\n",
    "                I_data = np.loadtxt(dat_file)\n",
    "            elif dat_file.name.endswith('_Qxy.dat'):\n",
    "                Qxy_data = np.loadtxt(dat_file)\n",
    "            elif dat_file.name.endswith('_Qz.dat'):\n",
    "                Qz_data = np.loadtxt(dat_file)\n",
    "    \n",
    "    return I_data, Qxy_data, Qz_data, scan_id"
   ]
  },
  {
   "cell_type": "code",
   "execution_count": 1607,
   "metadata": {},
   "outputs": [],
   "source": [
    "def get_crop(box, I_data, Qxy_data, Qz_data):\n",
    "    xy_min, xy_max, z_min, z_max = box\n",
    "    if xy_min == None:\n",
    "        xy_min = Qxy_data[0,0]\n",
    "    if xy_max == None:\n",
    "        xy_max = Qxy_data[-1,-1]\n",
    "    if z_min == None:\n",
    "        z_min = Qz_data[0,0]\n",
    "    if z_max == None:\n",
    "        z_max = Qz_data[-1,-1]\n",
    "    mask = (Qxy_data > xy_min) & (Qxy_data < xy_max) & (Qz_data > z_min) & (Qz_data < z_max)\n",
    "    I_data_copy = I_data.copy()\n",
    "    I_data_copy[~mask] = np.nan\n",
    "    return I_data_copy"
   ]
  },
  {
   "cell_type": "code",
   "execution_count": 1608,
   "metadata": {},
   "outputs": [],
   "source": [
    "def get_avg(box, I_data, Qxy_data, Qz_data):\n",
    "    crop = get_crop(box, I_data, Qxy_data, Qz_data)\n",
    "    avg = np.nanmean(crop, axis=0)\n",
    "    return avg"
   ]
  },
  {
   "cell_type": "code",
   "execution_count": 1609,
   "metadata": {},
   "outputs": [],
   "source": [
    "def low_pass_filter(signal, window_size=None):\n",
    "    if window_size is None:\n",
    "        return signal\n",
    "    window = np.ones(window_size) / window_size\n",
    "    filtered_signal = np.convolve(signal, window, mode='valid')\n",
    "    return filtered_signal"
   ]
  },
  {
   "cell_type": "code",
   "execution_count": 1610,
   "metadata": {},
   "outputs": [],
   "source": [
    "metadata_path = Path('./lipid_metadata.csv').resolve()\n",
    "metadata = pd.read_csv(metadata_path)"
   ]
  },
  {
   "cell_type": "code",
   "execution_count": 1611,
   "metadata": {},
   "outputs": [],
   "source": [
    "azo_trans_metadata = metadata[(metadata['method']=='GIXD') & (metadata['sample']=='azo_trans')]\n",
    "azo_cis_metadata = metadata[(metadata['method']=='GIXD') & (metadata['sample']=='azo_cis')]\n",
    "azo_cis_2_metadata = metadata[(metadata['method']=='GIXD') & (metadata['sample']=='azo_cis_2')]\n",
    "azo_cis_3_metadata = metadata[(metadata['method']=='GIXD') & (metadata['sample']=='azo_cis_3')]\n",
    "water_metadata = metadata[(metadata['method']=='GIXD') & (metadata['sample']=='water')]"
   ]
  },
  {
   "cell_type": "code",
   "execution_count": 1612,
   "metadata": {},
   "outputs": [],
   "source": [
    "def load_series(I_list, metadata):\n",
    "    for path in get_data_path(metadata):\n",
    "        try:\n",
    "            I_list.append((get_data(path)[0], get_data(path)[3]))\n",
    "            print(\"Loaded data from\", path)\n",
    "        except Exception as e:\n",
    "            print(f\"Error loading data from path {path}: {e}\")"
   ]
  },
  {
   "cell_type": "code",
   "execution_count": null,
   "metadata": {},
   "outputs": [],
   "source": [
    "I_trans_list = []\n",
    "load_series(I_trans_list, azo_trans_metadata)\n",
    "I_cis_list = []\n",
    "load_series(I_cis_list, azo_cis_metadata)\n",
    "I_cis_2_list = []\n",
    "load_series(I_cis_2_list, azo_cis_2_metadata)\n",
    "I_cis_3_list = []\n",
    "load_series(I_cis_3_list, azo_cis_3_metadata)"
   ]
  },
  {
   "cell_type": "code",
   "execution_count": null,
   "metadata": {},
   "outputs": [],
   "source": [
    "water_metadata = metadata[(metadata['method']=='GIXD') & (metadata['sample']=='water')]\n",
    "I_water, Qxy, Qz, _ = get_data(get_data_path(water_metadata)[0])\n",
    "Qxy, Qz = np.meshgrid(Qxy, Qz)\n",
    "extent = [Qxy[0,0], Qxy[-1,-1], Qz[0,0], Qz[-1,-1]]\n",
    "print(\"Qxy from\", Qxy[0,0], \"to\", Qxy[-1,-1])\n",
    "print(\"Qz from\", Qz[0,0], \"to\", Qz[-1,-1])"
   ]
  },
  {
   "cell_type": "code",
   "execution_count": 1615,
   "metadata": {},
   "outputs": [],
   "source": [
    "I_trans_subtracted_list = [(I_trans[0] - I_water, I_trans[1]) for I_trans in I_trans_list]\n",
    "I_cis_subtracted_list = [(I_cis[0] - I_water, I_cis[1]) for I_cis in I_cis_list]\n",
    "I_cis_2_subtracted_list = [(I_cis_2[0] - I_water, I_cis_2[1]) for I_cis_2 in I_cis_2_list]\n",
    "I_cis_3_subtracted_list = [(I_cis_3[0] - I_water, I_cis_3[1]) for I_cis_3 in I_cis_3_list]"
   ]
  },
  {
   "cell_type": "code",
   "execution_count": 1616,
   "metadata": {},
   "outputs": [],
   "source": [
    "def plot_series(I_list, extent, sample_name, figsize=None):\n",
    "    fig = plt.figure(figsize=figsize)\n",
    "    for i, I in enumerate(I_list):\n",
    "        pressure = metadata[metadata['scan_id']==int(I[1])]['pressure_mN/m'].values[0]\n",
    "        ax = fig.add_subplot(1, len(I_list), i + 1)\n",
    "        ax.imshow(I[0], cmap='hot', extent=extent, origin='lower', vmin=5, vmax=15)\n",
    "        ax.set_title(f'{sample_name}\\n{pressure} mN/m, scan {I[1]}')\n",
    "        ax.set_xticks([0.8, 1.0, 1.2, 1.4, 1.6, 1.8])\n",
    "    plt.savefig(f'imshow_{sample_name}.png', dpi=100)\n",
    "    plt.show()"
   ]
  },
  {
   "cell_type": "code",
   "execution_count": null,
   "metadata": {},
   "outputs": [],
   "source": [
    "plot_series(I_trans_subtracted_list, extent, 'azo_trans', (9, 6))\n",
    "plot_series(I_cis_subtracted_list, extent, 'azo_cis', (12, 6))\n",
    "plot_series(I_cis_2_subtracted_list, extent, 'azo_cis_2', (6, 6))\n",
    "plot_series(I_cis_3_subtracted_list, extent, 'azo_cis_3', (6, 6))"
   ]
  },
  {
   "cell_type": "code",
   "execution_count": null,
   "metadata": {},
   "outputs": [],
   "source": [
    "step = 0.1\n",
    "n_steps = int(1.2 / step)\n",
    "roi_list = [\n",
    "    (None, None, step * i, step * (i+1)) for i in range(n_steps)\n",
    "]\n",
    "avg_list = [\n",
    "    get_avg(roi, I_trans_list[0][0], Qxy, Qz) for roi in roi_list\n",
    "]\n",
    "offset = 0\n",
    "for avg in avg_list:\n",
    "    plt.plot(avg/40 + offset)\n",
    "    offset += 0.1\n",
    "plt.show()"
   ]
  },
  {
   "cell_type": "code",
   "execution_count": null,
   "metadata": {},
   "outputs": [],
   "source": [
    "roi = (1, 1.8, 0, 0.25)\n",
    "trans_avg_list = [\n",
    "    get_avg(roi, I_trans_subtracted[0], Qxy, Qz) for I_trans_subtracted in I_trans_subtracted_list\n",
    "]\n",
    "cis_avg_list = [\n",
    "    get_avg(roi, I_cis_subtracted[0], Qxy, Qz) for I_cis_subtracted in I_cis_subtracted_list\n",
    "]\n",
    "cis_2_avg_list = [\n",
    "    get_avg(roi, I_cis_2_subtracted[0], Qxy, Qz) for I_cis_2_subtracted in I_cis_2_subtracted_list\n",
    "]\n",
    "cis_3_avg_list = [\n",
    "    get_avg(roi, I_cis_3_subtracted[0], Qxy, Qz) for I_cis_3_subtracted in I_cis_3_subtracted_list\n",
    "]   \n",
    "trans_avg_list = [low_pass_filter(trans_avg) for trans_avg in trans_avg_list]\n",
    "cis_avg_list = [low_pass_filter(cis_avg) for cis_avg in cis_avg_list]\n",
    "cis_2_avg_list = [low_pass_filter(cis_2_avg) for cis_2_avg in cis_2_avg_list]\n",
    "cis_3_avg_list = [low_pass_filter(cis_3_avg) for cis_3_avg in cis_3_avg_list]\n",
    "print(trans_avg_list[0].shape)\n",
    "offset_step = 0\n",
    "offset = 0\n",
    "fig = plt.figure(figsize=(6, 6))\n",
    "for trans_avg in trans_avg_list:\n",
    "    line_trans, = plt.plot(np.linspace(roi[0], roi[1], len(trans_avg)), trans_avg/40 + offset, color='red', linewidth=1)\n",
    "    offset += offset_step\n",
    "offset = 0.2\n",
    "for cis_avg in cis_avg_list:\n",
    "    line_cis, = plt.plot(np.linspace(roi[0], roi[1], len(cis_avg)), cis_avg/40 + offset, color='blue', linewidth=1)\n",
    "    offset += offset_step\n",
    "offset = 0.4\n",
    "for cis_2_avg in cis_2_avg_list:\n",
    "    line_cis_2, = plt.plot(np.linspace(roi[0], roi[1], len(cis_2_avg)), cis_2_avg/40 + offset, color='green', linewidth=1)\n",
    "    offset += offset_step\n",
    "offset = 0.6\n",
    "for cis_3_avg in cis_3_avg_list:\n",
    "    line_cis_3, = plt.plot(np.linspace(roi[0], roi[1], len(cis_3_avg)), cis_3_avg/40 + offset, color='purple', linewidth=1)\n",
    "    offset += offset_step\n",
    "plt.legend([line_trans, line_cis, line_cis_2, line_cis_3], ['azo_trans', 'azo_cis', 'azo_cis_2', 'azo_cis_3'])\n",
    "plt.ylim(0, 0.9)\n",
    "plt.xlabel('Q_xy (A$^{-1}$)')\n",
    "plt.ylabel('Intensity (a.u.)')\n",
    "plt.title(f\"integrated over ROI,\\n Qz from {roi[2]} to {roi[3]}\"+\" A$^{-1}$\")\n",
    "plt.savefig('plot_all.png', dpi=100)\n",
    "plt.show()"
   ]
  },
  {
   "cell_type": "code",
   "execution_count": null,
   "metadata": {},
   "outputs": [],
   "source": []
  }
 ],
 "metadata": {
  "kernelspec": {
   "display_name": "base",
   "language": "python",
   "name": "python3"
  },
  "language_info": {
   "codemirror_mode": {
    "name": "ipython",
    "version": 3
   },
   "file_extension": ".py",
   "mimetype": "text/x-python",
   "name": "python",
   "nbconvert_exporter": "python",
   "pygments_lexer": "ipython3",
   "version": "3.12.9"
  }
 },
 "nbformat": 4,
 "nbformat_minor": 2
}
