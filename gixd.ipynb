{
 "cells": [
  {
   "cell_type": "code",
   "execution_count": 24,
   "metadata": {},
   "outputs": [],
   "source": [
    "from pathlib import Path\n",
    "import numpy as np\n",
    "import matplotlib.pyplot as plt"
   ]
  },
  {
   "cell_type": "markdown",
   "metadata": {},
   "source": [
    "Load data and subtract water"
   ]
  },
  {
   "cell_type": "code",
   "execution_count": 25,
   "metadata": {},
   "outputs": [],
   "source": [
    "data_path = Path('~/workspace/data/lipid/GIXD').expanduser()\n",
    "plot_path = Path('~/workspace/plot/lipid/GIXD').expanduser()"
   ]
  },
  {
   "cell_type": "code",
   "execution_count": 26,
   "metadata": {},
   "outputs": [],
   "source": [
    "water_path = data_path / 'water'\n",
    "water_index = [44]\n",
    "water_pressure = [0.4]\n",
    "water_I_path = [water_path / f'water_{i}_{i}_combined_I.dat' for i in water_index]\n",
    "water_Qxy_path = [water_path / f'water_{i}_{i}_combined_Qxy.dat' for i in water_index]\n",
    "water_Qz_path = [water_path / f'water_{i}_{i}_combined_Qz.dat' for i in water_index]\n",
    "water_I = [np.loadtxt(path) for path in water_I_path]\n",
    "water_Qxy = [np.loadtxt(path) for path in water_Qxy_path]\n",
    "water_Qz = [np.loadtxt(path) for path in water_Qz_path]"
   ]
  },
  {
   "cell_type": "code",
   "execution_count": 27,
   "metadata": {},
   "outputs": [],
   "source": [
    "azo_cis_1_path = data_path / 'azo_cis_1'\n",
    "azo_cis_1_index = [78, 82, 86, 90, 94]\n",
    "azo_cis_1_pressure = [5, 10, 20, 30, 30]\n",
    "azo_cis_1_I_path = [azo_cis_1_path / f'azocis_{i}_{i}_combined_I.dat' for i in azo_cis_1_index]\n",
    "azo_cis_1_Qxy_path = [azo_cis_1_path / f'azocis_{i}_{i}_combined_Qxy.dat' for i in azo_cis_1_index]\n",
    "azo_cis_1_Qz_path = [azo_cis_1_path / f'azocis_{i}_{i}_combined_Qz.dat' for i in azo_cis_1_index]\n",
    "azo_cis_1_I = [np.loadtxt(path) for path in azo_cis_1_I_path]\n",
    "azo_cis_1_Qxy = [np.loadtxt(path) for path in azo_cis_1_Qxy_path]\n",
    "azo_cis_1_Qz = [np.loadtxt(path) for path in azo_cis_1_Qz_path]\n",
    "azo_cis_1_I -= water_I[0]\n",
    "azo_cis_1_save_path = plot_path / 'azo_cis_1'\n",
    "azo_cis_1_save_path.mkdir(parents=True, exist_ok=True)"
   ]
  },
  {
   "cell_type": "code",
   "execution_count": 28,
   "metadata": {},
   "outputs": [],
   "source": [
    "azo_cis_2_path = data_path / 'azo_cis_2'\n",
    "azo_cis_2_index = [106, 110]\n",
    "azo_cis_2_pressure = [3.3, 30]\n",
    "azo_cis_2_I_path = [azo_cis_2_path / f'azocis02_{i}_{i}_combined_I.dat' for i in azo_cis_2_index]\n",
    "azo_cis_2_Qxy_path = [azo_cis_2_path / f'azocis02_{i}_{i}_combined_Qxy.dat' for i in azo_cis_2_index]\n",
    "azo_cis_2_Qz_path = [azo_cis_2_path / f'azocis02_{i}_{i}_combined_Qz.dat' for i in azo_cis_2_index]\n",
    "azo_cis_2_I = [np.loadtxt(path) for path in azo_cis_2_I_path]\n",
    "azo_cis_2_Qxy = [np.loadtxt(path) for path in azo_cis_2_Qxy_path]\n",
    "azo_cis_2_Qz = [np.loadtxt(path) for path in azo_cis_2_Qz_path]\n",
    "azo_cis_2_I -= water_I[0]\n",
    "azo_cis_2_save_path = plot_path / 'azo_cis_2'\n",
    "azo_cis_2_save_path.mkdir(parents=True, exist_ok=True)"
   ]
  },
  {
   "cell_type": "code",
   "execution_count": 29,
   "metadata": {},
   "outputs": [],
   "source": [
    "azo_cis_3_path = data_path / 'azo_cis_3'\n",
    "azo_cis_3_index = [115, 119]\n",
    "azo_cis_3_pressure = [0.1, 30]\n",
    "azo_cis_3_I_path = [azo_cis_3_path / f'azocis03_{i}_{i}_combined_I.dat' for i in azo_cis_3_index]\n",
    "azo_cis_3_Qxy_path = [azo_cis_3_path / f'azocis03_{i}_{i}_combined_Qxy.dat' for i in azo_cis_3_index]\n",
    "azo_cis_3_Qz_path = [azo_cis_3_path / f'azocis03_{i}_{i}_combined_Qz.dat' for i in azo_cis_3_index]\n",
    "azo_cis_3_I = [np.loadtxt(path) for path in azo_cis_3_I_path]\n",
    "azo_cis_3_Qxy = [np.loadtxt(path) for path in azo_cis_3_Qxy_path]\n",
    "azo_cis_3_Qz = [np.loadtxt(path) for path in azo_cis_3_Qz_path]\n",
    "azo_cis_3_I -= water_I[0]\n",
    "azo_cis_3_save_path = plot_path / 'azo_cis_3'\n",
    "azo_cis_3_save_path.mkdir(parents=True, exist_ok=True)"
   ]
  },
  {
   "cell_type": "code",
   "execution_count": 30,
   "metadata": {},
   "outputs": [],
   "source": [
    "dopc_path = data_path / 'dopc'\n",
    "dopc_index = [16, 12]\n",
    "dopc_pressure = [0.1, 10]\n",
    "dopc_I_path = [dopc_path / f'dopc_{i}_{i}_combined_I.dat' for i in dopc_index]\n",
    "dopc_Qxy_path = [dopc_path / f'dopc_{i}_{i}_combined_Qxy.dat' for i in dopc_index]\n",
    "dopc_Qz_path = [dopc_path / f'dopc_{i}_{i}_combined_Qz.dat' for i in dopc_index]\n",
    "dopc_I = [np.loadtxt(path) for path in dopc_I_path]\n",
    "dopc_Qxy = [np.loadtxt(path) for path in dopc_Qxy_path]\n",
    "dopc_Qz = [np.loadtxt(path) for path in dopc_Qz_path]\n",
    "dopc_I -= water_I[0]\n",
    "dopc_save_path = plot_path / 'dopc'\n",
    "dopc_save_path.mkdir(parents=True, exist_ok=True)"
   ]
  },
  {
   "cell_type": "code",
   "execution_count": 31,
   "metadata": {},
   "outputs": [],
   "source": [
    "red_azo_path = data_path / 'red_azo'\n",
    "red_azo_index = [128, 132, 136, 140]\n",
    "red_azo_pressure = [0.1, 10, 20, 30]\n",
    "red_azo_I_path = [red_azo_path / f'redazo_{i}_{i}_combined_I.dat' for i in red_azo_index]\n",
    "red_azo_Qxy_path = [red_azo_path / f'redazo_{i}_{i}_combined_Qxy.dat' for i in red_azo_index]\n",
    "red_azo_Qz_path = [red_azo_path / f'redazo_{i}_{i}_combined_Qz.dat' for i in red_azo_index]\n",
    "red_azo_I = [np.loadtxt(path) for path in red_azo_I_path]\n",
    "red_azo_Qxy = [np.loadtxt(path) for path in red_azo_Qxy_path]\n",
    "red_azo_Qz = [np.loadtxt(path) for path in red_azo_Qz_path]\n",
    "red_azo_I -= water_I[0]\n",
    "red_azo_save_path = plot_path / 'red_azo'\n",
    "red_azo_save_path.mkdir(parents=True, exist_ok=True)"
   ]
  },
  {
   "cell_type": "markdown",
   "metadata": {},
   "source": [
    "Plot data"
   ]
  },
  {
   "cell_type": "code",
   "execution_count": 32,
   "metadata": {},
   "outputs": [],
   "source": [
    "from xrd_anlyutils.plot import mpl"
   ]
  },
  {
   "cell_type": "code",
   "execution_count": 33,
   "metadata": {},
   "outputs": [],
   "source": [
    "for I, Q_xy, Q_z, index, pressure in zip(azo_cis_1_I, azo_cis_1_Qxy, azo_cis_1_Qz, azo_cis_1_index, azo_cis_1_pressure):\n",
    "    mpl.plot_images([I],\n",
    "                nrows=1,\n",
    "                ncols=1,\n",
    "                titles=[f'azo_cis_1 scan {index}: {pressure} mN/m'],\n",
    "                origin='lower',\n",
    "                vmin=0,\n",
    "                vmax=30,\n",
    "                figsize=(6, 6),\n",
    "                extent=(Q_xy[0], Q_xy[-1], Q_z[0], Q_z[-1]),\n",
    "                xlabel='Q_xy (A$^{-1}$)',\n",
    "                ylabel='Q_z (A$^{-1}$)',\n",
    "                save_path=azo_cis_1_save_path / f'azo_cis_1_scan_{index}_pressure_{pressure}mN_m.png',\n",
    "                )"
   ]
  },
  {
   "cell_type": "code",
   "execution_count": 34,
   "metadata": {},
   "outputs": [],
   "source": [
    "for I, Q_xy, Q_z, index, pressure in zip(azo_cis_2_I, azo_cis_2_Qxy, azo_cis_2_Qz, azo_cis_2_index, azo_cis_2_pressure):\n",
    "    mpl.plot_images([I],\n",
    "                nrows=1,\n",
    "                ncols=1,\n",
    "                titles=[f'azo_cis_2 scan {index}: {pressure} mN/m'],\n",
    "                origin='lower',\n",
    "                vmin=0,\n",
    "                vmax=30,\n",
    "                figsize=(6, 6),\n",
    "                extent=(Q_xy[0], Q_xy[-1], Q_z[0], Q_z[-1]),\n",
    "                xlabel='Q_xy (A$^{-1}$)',\n",
    "                ylabel='Q_z (A$^{-1}$)',\n",
    "                save_path=azo_cis_2_save_path / f'azo_cis_2_scan_{index}_pressure_{pressure}mN_m.png',\n",
    "                )"
   ]
  },
  {
   "cell_type": "code",
   "execution_count": 35,
   "metadata": {},
   "outputs": [],
   "source": [
    "for I, Q_xy, Q_z, index, pressure in zip(azo_cis_3_I, azo_cis_3_Qxy, azo_cis_3_Qz, azo_cis_3_index, azo_cis_3_pressure):\n",
    "    mpl.plot_images([I],\n",
    "                nrows=1,\n",
    "                ncols=1,\n",
    "                titles=[f'azo_cis_3 scan {index}: {pressure} mN/m'],\n",
    "                origin='lower',\n",
    "                vmin=0,\n",
    "                vmax=30,\n",
    "                figsize=(6, 6),\n",
    "                extent=(Q_xy[0], Q_xy[-1], Q_z[0], Q_z[-1]),\n",
    "                xlabel='Q_xy (A$^{-1}$)',\n",
    "                ylabel='Q_z (A$^{-1}$)',\n",
    "                save_path=azo_cis_3_save_path / f'azo_cis_3_scan_{index}_pressure_{pressure}mN_m.png',\n",
    "                )"
   ]
  },
  {
   "cell_type": "code",
   "execution_count": 36,
   "metadata": {},
   "outputs": [],
   "source": [
    "for I, Q_xy, Q_z, index, pressure in zip(dopc_I, dopc_Qxy, dopc_Qz, dopc_index, dopc_pressure):\n",
    "    mpl.plot_images([I],\n",
    "                nrows=1,\n",
    "                ncols=1,\n",
    "                titles=[f'dopc scan {index}: {pressure} mN/m'],\n",
    "                origin='lower',\n",
    "                vmin=0,\n",
    "                vmax=30,\n",
    "                figsize=(6, 6),\n",
    "                extent=(Q_xy[0], Q_xy[-1], Q_z[0], Q_z[-1]),\n",
    "                xlabel='Q_xy (A$^{-1}$)',\n",
    "                ylabel='Q_z (A$^{-1}$)',\n",
    "                save_path=dopc_save_path / f'dopc_scan_{index}_pressure_{pressure}mN_m.png',\n",
    "                )"
   ]
  },
  {
   "cell_type": "code",
   "execution_count": 37,
   "metadata": {},
   "outputs": [],
   "source": [
    "for I, Q_xy, Q_z, index, pressure in zip(red_azo_I, red_azo_Qxy, red_azo_Qz, red_azo_index, red_azo_pressure):\n",
    "    mpl.plot_images([I],\n",
    "                nrows=1,\n",
    "                ncols=1,\n",
    "                titles=[f'red_azo scan {index}: {pressure} mN/m'],\n",
    "                origin='lower',\n",
    "                vmin=0,\n",
    "                vmax=30,\n",
    "                figsize=(6, 6),\n",
    "                extent=(Q_xy[0], Q_xy[-1], Q_z[0], Q_z[-1]),\n",
    "                xlabel='Q_xy (A$^{-1}$)',\n",
    "                ylabel='Q_z (A$^{-1}$)',\n",
    "                save_path=red_azo_save_path / f'red_azo_scan_{index}_pressure_{pressure}mN_m.png',\n",
    "                )"
   ]
  },
  {
   "cell_type": "markdown",
   "metadata": {},
   "source": [
    "Process data"
   ]
  },
  {
   "cell_type": "code",
   "execution_count": 38,
   "metadata": {},
   "outputs": [],
   "source": [
    "from xrd_anlyutils.math import roi"
   ]
  },
  {
   "cell_type": "code",
   "execution_count": 39,
   "metadata": {},
   "outputs": [],
   "source": [
    "bbox = [Q_xy[0], Q_xy[-1], 0, 0.25]"
   ]
  },
  {
   "cell_type": "code",
   "execution_count": 40,
   "metadata": {},
   "outputs": [],
   "source": [
    "azo_cis_1_roi = [roi.get_sum(bbox, I, Q_xy, Q_z, axis=0) for I, Q_xy, Q_z in zip(azo_cis_1_I, azo_cis_1_Qxy, azo_cis_1_Qz)]\n",
    "azo_cis_2_roi = [roi.get_sum(bbox, I, Q_xy, Q_z, axis=0) for I, Q_xy, Q_z in zip(azo_cis_2_I, azo_cis_2_Qxy, azo_cis_2_Qz)]\n",
    "azo_cis_3_roi = [roi.get_sum(bbox, I, Q_xy, Q_z, axis=0) for I, Q_xy, Q_z in zip(azo_cis_3_I, azo_cis_3_Qxy, azo_cis_3_Qz)]\n",
    "dopc_roi = [roi.get_sum(bbox, I, Q_xy, Q_z, axis=0) for I, Q_xy, Q_z in zip(dopc_I, dopc_Qxy, dopc_Qz)]\n",
    "red_azo_roi = [roi.get_sum(bbox, I, Q_xy, Q_z, axis=0) for I, Q_xy, Q_z in zip(red_azo_I, red_azo_Qxy, red_azo_Qz)]"
   ]
  },
  {
   "cell_type": "code",
   "execution_count": 41,
   "metadata": {},
   "outputs": [],
   "source": [
    "mpl.plot_saxs(\n",
    "    [Q_xy]*len(azo_cis_1_roi),\n",
    "    azo_cis_1_roi,\n",
    "    scatter=True,\n",
    "    log_scale=False,\n",
    "    xlabel='Q_xy (A$^{-1}$)',\n",
    "    ylabel='I (a.u.)',\n",
    "    save_path=azo_cis_1_save_path / 'azo_cis_1_roi.png',\n",
    "    title=f'azo_cis_1 roi',\n",
    "    labels=[f'scan {index}: {pressure} mN/m' for index, pressure in zip(azo_cis_1_index, azo_cis_1_pressure)],\n",
    "    )\n"
   ]
  },
  {
   "cell_type": "code",
   "execution_count": 42,
   "metadata": {},
   "outputs": [],
   "source": [
    "mpl.plot_saxs(\n",
    "    [Q_xy]*len(azo_cis_2_roi),\n",
    "    azo_cis_2_roi,\n",
    "    scatter=True,\n",
    "    log_scale=False,\n",
    "    xlabel='Q_xy (A$^{-1}$)',\n",
    "    ylabel='I (a.u.)',\n",
    "    save_path=azo_cis_2_save_path / 'azo_cis_2_roi.png',\n",
    "    title=f'azo_cis_2 roi',\n",
    "    labels=[f'scan {index}: {pressure} mN/m' for index, pressure in zip(azo_cis_2_index, azo_cis_2_pressure)],\n",
    "    )"
   ]
  },
  {
   "cell_type": "code",
   "execution_count": 43,
   "metadata": {},
   "outputs": [],
   "source": [
    "mpl.plot_saxs(\n",
    "    [Q_xy]*len(azo_cis_3_roi),\n",
    "    azo_cis_3_roi,\n",
    "    scatter=True,\n",
    "    log_scale=False,\n",
    "    xlabel='Q_xy (A$^{-1}$)',\n",
    "    ylabel='I (a.u.)',\n",
    "    save_path=azo_cis_3_save_path / 'azo_cis_3_roi.png',\n",
    "    title=f'azo_cis_3 roi',\n",
    "    labels=[f'scan {index}: {pressure} mN/m' for index, pressure in zip(azo_cis_3_index, azo_cis_3_pressure)],\n",
    "    )"
   ]
  },
  {
   "cell_type": "code",
   "execution_count": 44,
   "metadata": {},
   "outputs": [],
   "source": [
    "mpl.plot_saxs(\n",
    "    [Q_xy]*len(dopc_roi),\n",
    "    dopc_roi,\n",
    "    scatter=True,\n",
    "    log_scale=False,\n",
    "    xlabel='Q_xy (A$^{-1}$)',\n",
    "    ylabel='I (a.u.)',\n",
    "    save_path=dopc_save_path / 'dopc_roi.png',\n",
    "    title=f'dopc roi',\n",
    "    labels=[f'scan {index}: {pressure} mN/m' for index, pressure in zip(dopc_index, dopc_pressure)],\n",
    "    )"
   ]
  },
  {
   "cell_type": "code",
   "execution_count": 45,
   "metadata": {},
   "outputs": [],
   "source": [
    "mpl.plot_saxs(\n",
    "    [Q_xy]*len(red_azo_roi),\n",
    "    red_azo_roi,\n",
    "    scatter=True,\n",
    "    log_scale=False,\n",
    "    xlabel='Q_xy (A$^{-1}$)',\n",
    "    ylabel='I (a.u.)',\n",
    "    save_path=red_azo_save_path / 'red_azo_roi.png',\n",
    "    title=f'red_azo roi',\n",
    "    labels=[f'scan {index}: {pressure} mN/m' for index, pressure in zip(red_azo_index, red_azo_pressure)],\n",
    "    )"
   ]
  },
  {
   "cell_type": "markdown",
   "metadata": {},
   "source": [
    "Fit lorentzian"
   ]
  },
  {
   "cell_type": "code",
   "execution_count": null,
   "metadata": {},
   "outputs": [],
   "source": []
  }
 ],
 "metadata": {
  "kernelspec": {
   "display_name": "base",
   "language": "python",
   "name": "python3"
  },
  "language_info": {
   "codemirror_mode": {
    "name": "ipython",
    "version": 3
   },
   "file_extension": ".py",
   "mimetype": "text/x-python",
   "name": "python",
   "nbconvert_exporter": "python",
   "pygments_lexer": "ipython3",
   "version": "3.12.9"
  }
 },
 "nbformat": 4,
 "nbformat_minor": 2
}
