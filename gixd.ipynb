{
 "cells": [
  {
   "cell_type": "code",
   "execution_count": 42,
   "metadata": {},
   "outputs": [],
   "source": [
    "from pathlib import Path\n",
    "import numpy as np\n",
    "import matplotlib.pyplot as plt"
   ]
  },
  {
   "cell_type": "markdown",
   "metadata": {},
   "source": [
    "Load data and subtract water"
   ]
  },
  {
   "cell_type": "code",
   "execution_count": 43,
   "metadata": {},
   "outputs": [],
   "source": [
    "data_path = Path('~/workspace/data/lipid/GIXD').expanduser()\n",
    "plot_path = Path('~/workspace/plot/lipid/GIXD').expanduser()"
   ]
  },
  {
   "cell_type": "code",
   "execution_count": 44,
   "metadata": {},
   "outputs": [],
   "source": [
    "water_path = data_path / 'water'\n",
    "water_index = [44]\n",
    "water_pressure = [0.4]\n",
    "water_I_path = [water_path / f'water_{i}_{i}_combined_I.dat' for i in water_index]\n",
    "water_Qxy_path = [water_path / f'water_{i}_{i}_combined_Qxy.dat' for i in water_index]\n",
    "water_Qz_path = [water_path / f'water_{i}_{i}_combined_Qz.dat' for i in water_index]\n",
    "water_I = [np.loadtxt(path) for path in water_I_path]\n",
    "water_Qxy = [np.loadtxt(path) for path in water_Qxy_path]\n",
    "water_Qz = [np.loadtxt(path) for path in water_Qz_path]"
   ]
  },
  {
   "cell_type": "code",
   "execution_count": 45,
   "metadata": {},
   "outputs": [],
   "source": [
    "azo_trans_path = data_path / 'azo_trans'\n",
    "azo_trans_index = [54, 58, 62]\n",
    "azo_trans_pressure = [10, 20, 30]\n",
    "azo_trans_I_path = [azo_trans_path / f'azotrans_{i}_{i}_combined_I.dat' for i in azo_trans_index]\n",
    "azo_trans_Qxy_path = [azo_trans_path / f'azotrans_{i}_{i}_combined_Qxy.dat' for i in azo_trans_index]\n",
    "azo_trans_Qz_path = [azo_trans_path / f'azotrans_{i}_{i}_combined_Qz.dat' for i in azo_trans_index]\n",
    "azo_trans_I = [np.loadtxt(path) for path in azo_trans_I_path]\n",
    "azo_trans_Qxy = [np.loadtxt(path) for path in azo_trans_Qxy_path]\n",
    "azo_trans_Qz = [np.loadtxt(path) for path in azo_trans_Qz_path]\n",
    "azo_trans_I -= water_I[0]\n",
    "azo_trans_save_path = plot_path / 'azo_trans'\n",
    "azo_trans_save_path.mkdir(parents=True, exist_ok=True)"
   ]
  },
  {
   "cell_type": "code",
   "execution_count": 46,
   "metadata": {},
   "outputs": [],
   "source": [
    "azo_cis_1_path = data_path / 'azo_cis_1'\n",
    "azo_cis_1_index = [78, 82, 86, 90, 94]\n",
    "azo_cis_1_pressure = [5, 10, 20, 30, 30]\n",
    "azo_cis_1_I_path = [azo_cis_1_path / f'azocis_{i}_{i}_combined_I.dat' for i in azo_cis_1_index]\n",
    "azo_cis_1_Qxy_path = [azo_cis_1_path / f'azocis_{i}_{i}_combined_Qxy.dat' for i in azo_cis_1_index]\n",
    "azo_cis_1_Qz_path = [azo_cis_1_path / f'azocis_{i}_{i}_combined_Qz.dat' for i in azo_cis_1_index]\n",
    "azo_cis_1_I = [np.loadtxt(path) for path in azo_cis_1_I_path]\n",
    "azo_cis_1_Qxy = [np.loadtxt(path) for path in azo_cis_1_Qxy_path]\n",
    "azo_cis_1_Qz = [np.loadtxt(path) for path in azo_cis_1_Qz_path]\n",
    "azo_cis_1_I -= water_I[0]\n",
    "azo_cis_1_save_path = plot_path / 'azo_cis_1'\n",
    "azo_cis_1_save_path.mkdir(parents=True, exist_ok=True)"
   ]
  },
  {
   "cell_type": "code",
   "execution_count": 47,
   "metadata": {},
   "outputs": [],
   "source": [
    "azo_cis_2_path = data_path / 'azo_cis_2'\n",
    "azo_cis_2_index = [106, 110]\n",
    "azo_cis_2_pressure = [3.3, 30]\n",
    "azo_cis_2_I_path = [azo_cis_2_path / f'azocis02_{i}_{i}_combined_I.dat' for i in azo_cis_2_index]\n",
    "azo_cis_2_Qxy_path = [azo_cis_2_path / f'azocis02_{i}_{i}_combined_Qxy.dat' for i in azo_cis_2_index]\n",
    "azo_cis_2_Qz_path = [azo_cis_2_path / f'azocis02_{i}_{i}_combined_Qz.dat' for i in azo_cis_2_index]\n",
    "azo_cis_2_I = [np.loadtxt(path) for path in azo_cis_2_I_path]\n",
    "azo_cis_2_Qxy = [np.loadtxt(path) for path in azo_cis_2_Qxy_path]\n",
    "azo_cis_2_Qz = [np.loadtxt(path) for path in azo_cis_2_Qz_path]\n",
    "azo_cis_2_I -= water_I[0]\n",
    "azo_cis_2_save_path = plot_path / 'azo_cis_2'\n",
    "azo_cis_2_save_path.mkdir(parents=True, exist_ok=True)"
   ]
  },
  {
   "cell_type": "code",
   "execution_count": 48,
   "metadata": {},
   "outputs": [],
   "source": [
    "azo_cis_3_path = data_path / 'azo_cis_3'\n",
    "azo_cis_3_index = [115, 119]\n",
    "azo_cis_3_pressure = [0.1, 30]\n",
    "azo_cis_3_I_path = [azo_cis_3_path / f'azocis03_{i}_{i}_combined_I.dat' for i in azo_cis_3_index]\n",
    "azo_cis_3_Qxy_path = [azo_cis_3_path / f'azocis03_{i}_{i}_combined_Qxy.dat' for i in azo_cis_3_index]\n",
    "azo_cis_3_Qz_path = [azo_cis_3_path / f'azocis03_{i}_{i}_combined_Qz.dat' for i in azo_cis_3_index]\n",
    "azo_cis_3_I = [np.loadtxt(path) for path in azo_cis_3_I_path]\n",
    "azo_cis_3_Qxy = [np.loadtxt(path) for path in azo_cis_3_Qxy_path]\n",
    "azo_cis_3_Qz = [np.loadtxt(path) for path in azo_cis_3_Qz_path]\n",
    "azo_cis_3_I -= water_I[0]\n",
    "azo_cis_3_save_path = plot_path / 'azo_cis_3'\n",
    "azo_cis_3_save_path.mkdir(parents=True, exist_ok=True)"
   ]
  },
  {
   "cell_type": "code",
   "execution_count": 49,
   "metadata": {},
   "outputs": [],
   "source": [
    "dopc_path = data_path / 'dopc'\n",
    "dopc_index = [16, 12]\n",
    "dopc_pressure = [0.1, 10]\n",
    "dopc_I_path = [dopc_path / f'dopc_{i}_{i}_combined_I.dat' for i in dopc_index]\n",
    "dopc_Qxy_path = [dopc_path / f'dopc_{i}_{i}_combined_Qxy.dat' for i in dopc_index]\n",
    "dopc_Qz_path = [dopc_path / f'dopc_{i}_{i}_combined_Qz.dat' for i in dopc_index]\n",
    "dopc_I = [np.loadtxt(path) for path in dopc_I_path]\n",
    "dopc_Qxy = [np.loadtxt(path) for path in dopc_Qxy_path]\n",
    "dopc_Qz = [np.loadtxt(path) for path in dopc_Qz_path]\n",
    "dopc_I -= water_I[0]\n",
    "dopc_save_path = plot_path / 'dopc'\n",
    "dopc_save_path.mkdir(parents=True, exist_ok=True)"
   ]
  },
  {
   "cell_type": "code",
   "execution_count": 50,
   "metadata": {},
   "outputs": [],
   "source": [
    "red_azo_path = data_path / 'red_azo'\n",
    "red_azo_index = [128, 132, 136, 140]\n",
    "red_azo_pressure = [0.1, 10, 20, 30]\n",
    "red_azo_I_path = [red_azo_path / f'redazo_{i}_{i}_combined_I.dat' for i in red_azo_index]\n",
    "red_azo_Qxy_path = [red_azo_path / f'redazo_{i}_{i}_combined_Qxy.dat' for i in red_azo_index]\n",
    "red_azo_Qz_path = [red_azo_path / f'redazo_{i}_{i}_combined_Qz.dat' for i in red_azo_index]\n",
    "red_azo_I = [np.loadtxt(path) for path in red_azo_I_path]\n",
    "red_azo_Qxy = [np.loadtxt(path) for path in red_azo_Qxy_path]\n",
    "red_azo_Qz = [np.loadtxt(path) for path in red_azo_Qz_path]\n",
    "red_azo_I -= water_I[0]\n",
    "red_azo_save_path = plot_path / 'red_azo'\n",
    "red_azo_save_path.mkdir(parents=True, exist_ok=True)"
   ]
  },
  {
   "cell_type": "markdown",
   "metadata": {},
   "source": [
    "Plot data"
   ]
  },
  {
   "cell_type": "code",
   "execution_count": 51,
   "metadata": {},
   "outputs": [],
   "source": [
    "from xrd_anlyutils.plot import mpl"
   ]
  },
  {
   "cell_type": "code",
   "execution_count": 52,
   "metadata": {},
   "outputs": [],
   "source": [
    "for I, Q_xy, Q_z, index, pressure in zip(azo_trans_I, azo_trans_Qxy, azo_trans_Qz, azo_trans_index, azo_trans_pressure):\n",
    "    mpl.plot_images([I],\n",
    "                nrows=1,\n",
    "                ncols=1,\n",
    "                titles=[f'Azo Trans {index}: {pressure} mN/m'],\n",
    "                origin='lower',\n",
    "                vmin=0,\n",
    "                vmax=30,\n",
    "                figsize=(6, 6),\n",
    "                extent=(Q_xy[0], Q_xy[-1], Q_z[0], Q_z[-1]),\n",
    "                xlabel='Q_xy (A$^{-1}$)',\n",
    "                ylabel='Q_z (A$^{-1}$)',\n",
    "                save_path=azo_trans_save_path / f'azo_trans_scan_{index}_pressure_{pressure}mN_m.png',\n",
    "                )"
   ]
  },
  {
   "cell_type": "code",
   "execution_count": 53,
   "metadata": {},
   "outputs": [],
   "source": [
    "for I, Q_xy, Q_z, index, pressure in zip(azo_cis_1_I, azo_cis_1_Qxy, azo_cis_1_Qz, azo_cis_1_index, azo_cis_1_pressure):\n",
    "    mpl.plot_images([I],\n",
    "                nrows=1,\n",
    "                ncols=1,\n",
    "                titles=[f'Azo Cis 1 {index}: {pressure} mN/m'],\n",
    "                origin='lower',\n",
    "                vmin=0,\n",
    "                vmax=30,\n",
    "                figsize=(6, 6),\n",
    "                extent=(Q_xy[0], Q_xy[-1], Q_z[0], Q_z[-1]),\n",
    "                xlabel='Q_xy (A$^{-1}$)',\n",
    "                ylabel='Q_z (A$^{-1}$)',\n",
    "                save_path=azo_cis_1_save_path / f'azo_cis_1_scan_{index}_pressure_{pressure}mN_m.png',\n",
    "                )"
   ]
  },
  {
   "cell_type": "code",
   "execution_count": 54,
   "metadata": {},
   "outputs": [],
   "source": [
    "for I, Q_xy, Q_z, index, pressure in zip(azo_cis_2_I, azo_cis_2_Qxy, azo_cis_2_Qz, azo_cis_2_index, azo_cis_2_pressure):\n",
    "    mpl.plot_images([I],\n",
    "                nrows=1,\n",
    "                ncols=1,\n",
    "                titles=[f'Azo Cis 2 {index}: {pressure} mN/m'],\n",
    "                origin='lower',\n",
    "                vmin=0,\n",
    "                vmax=30,\n",
    "                figsize=(6, 6),\n",
    "                extent=(Q_xy[0], Q_xy[-1], Q_z[0], Q_z[-1]),\n",
    "                xlabel='Q_xy (A$^{-1}$)',\n",
    "                ylabel='Q_z (A$^{-1}$)',\n",
    "                save_path=azo_cis_2_save_path / f'azo_cis_2_scan_{index}_pressure_{pressure}mN_m.png',\n",
    "                )"
   ]
  },
  {
   "cell_type": "code",
   "execution_count": 55,
   "metadata": {},
   "outputs": [],
   "source": [
    "for I, Q_xy, Q_z, index, pressure in zip(azo_cis_3_I, azo_cis_3_Qxy, azo_cis_3_Qz, azo_cis_3_index, azo_cis_3_pressure):\n",
    "    mpl.plot_images([I],\n",
    "                nrows=1,\n",
    "                ncols=1,\n",
    "                titles=[f'Azo Cis 3 {index}: {pressure} mN/m'],\n",
    "                origin='lower',\n",
    "                vmin=0,\n",
    "                vmax=30,\n",
    "                figsize=(6, 6),\n",
    "                extent=(Q_xy[0], Q_xy[-1], Q_z[0], Q_z[-1]),\n",
    "                xlabel='Q_xy (A$^{-1}$)',\n",
    "                ylabel='Q_z (A$^{-1}$)',\n",
    "                save_path=azo_cis_3_save_path / f'azo_cis_3_scan_{index}_pressure_{pressure}mN_m.png',\n",
    "                )"
   ]
  },
  {
   "cell_type": "code",
   "execution_count": 56,
   "metadata": {},
   "outputs": [],
   "source": [
    "for I, Q_xy, Q_z, index, pressure in zip(dopc_I, dopc_Qxy, dopc_Qz, dopc_index, dopc_pressure):\n",
    "    mpl.plot_images([I],\n",
    "                nrows=1,\n",
    "                ncols=1,\n",
    "                titles=[f'DOPC {index}: {pressure} mN/m'],\n",
    "                origin='lower',\n",
    "                vmin=0,\n",
    "                vmax=30,\n",
    "                figsize=(6, 6),\n",
    "                extent=(Q_xy[0], Q_xy[-1], Q_z[0], Q_z[-1]),\n",
    "                xlabel='Q_xy (A$^{-1}$)',\n",
    "                ylabel='Q_z (A$^{-1}$)',\n",
    "                save_path=dopc_save_path / f'dopc_scan_{index}_pressure_{pressure}mN_m.png',\n",
    "                )"
   ]
  },
  {
   "cell_type": "code",
   "execution_count": 57,
   "metadata": {},
   "outputs": [],
   "source": [
    "for I, Q_xy, Q_z, index, pressure in zip(red_azo_I, red_azo_Qxy, red_azo_Qz, red_azo_index, red_azo_pressure):\n",
    "    mpl.plot_images([I],\n",
    "                nrows=1,\n",
    "                ncols=1,\n",
    "                titles=[f'Red Azo {index}: {pressure} mN/m'],\n",
    "                origin='lower',\n",
    "                vmin=0,\n",
    "                vmax=30,\n",
    "                figsize=(6, 6),\n",
    "                extent=(Q_xy[0], Q_xy[-1], Q_z[0], Q_z[-1]),\n",
    "                xlabel='Q_xy (A$^{-1}$)',\n",
    "                ylabel='Q_z (A$^{-1}$)',\n",
    "                save_path=red_azo_save_path / f'red_azo_scan_{index}_pressure_{pressure}mN_m.png',\n",
    "                )"
   ]
  },
  {
   "cell_type": "markdown",
   "metadata": {},
   "source": [
    "Process data"
   ]
  },
  {
   "cell_type": "code",
   "execution_count": 58,
   "metadata": {},
   "outputs": [],
   "source": [
    "from xrd_anlyutils.math import roi"
   ]
  },
  {
   "cell_type": "code",
   "execution_count": 59,
   "metadata": {},
   "outputs": [],
   "source": [
    "bbox = [Q_xy[0], Q_xy[-1], 0.04, 0.2]"
   ]
  },
  {
   "cell_type": "code",
   "execution_count": 60,
   "metadata": {},
   "outputs": [
    {
     "name": "stderr",
     "output_type": "stream",
     "text": [
      "/Users/jack/workspace/own/xrd-anlyutils/src/xrd_anlyutils/math/roi.py:13: RuntimeWarning: Mean of empty slice\n",
      "  avg = np.nanmean(crop, axis=axis)\n"
     ]
    }
   ],
   "source": [
    "azo_trans_roi = [roi.get_avg(bbox, I, Q_xy, Q_z, axis=0) for I, Q_xy, Q_z in zip(azo_trans_I, azo_trans_Qxy, azo_trans_Qz)]\n",
    "azo_cis_1_roi = [roi.get_avg(bbox, I, Q_xy, Q_z, axis=0) for I, Q_xy, Q_z in zip(azo_cis_1_I, azo_cis_1_Qxy, azo_cis_1_Qz)]\n",
    "azo_cis_2_roi = [roi.get_avg(bbox, I, Q_xy, Q_z, axis=0) for I, Q_xy, Q_z in zip(azo_cis_2_I, azo_cis_2_Qxy, azo_cis_2_Qz)]\n",
    "azo_cis_3_roi = [roi.get_avg(bbox, I, Q_xy, Q_z, axis=0) for I, Q_xy, Q_z in zip(azo_cis_3_I, azo_cis_3_Qxy, azo_cis_3_Qz)]\n",
    "dopc_roi = [roi.get_avg(bbox, I, Q_xy, Q_z, axis=0) for I, Q_xy, Q_z in zip(dopc_I, dopc_Qxy, dopc_Qz)]\n",
    "red_azo_roi = [roi.get_avg(bbox, I, Q_xy, Q_z, axis=0) for I, Q_xy, Q_z in zip(red_azo_I, red_azo_Qxy, red_azo_Qz)]"
   ]
  },
  {
   "cell_type": "code",
   "execution_count": 61,
   "metadata": {},
   "outputs": [],
   "source": [
    "from xrd_anlyutils.math import fit"
   ]
  },
  {
   "cell_type": "code",
   "execution_count": 62,
   "metadata": {},
   "outputs": [],
   "source": [
    "fit_range = [1.0, 1.8]\n",
    "ignore_range = [[1.5, 1.55], [1.65, 1.7]]"
   ]
  },
  {
   "cell_type": "code",
   "execution_count": 63,
   "metadata": {},
   "outputs": [],
   "source": [
    "azo_trans_fit = [fit.fit_lorentzian(Q_xy, I, fit_range, [], 1.4) for I, Q_xy in zip(azo_trans_roi, azo_trans_Qxy)]\n",
    "azo_trans_Qxy_fit = azo_trans_fit[0][0]\n",
    "azo_trans_I_fit = [fit[1] for fit in azo_trans_fit]\n",
    "azo_trans_Q_xy_max, azo_trans_Q_xy_max_err = zip(*[fit[2] for fit in azo_trans_fit])\n",
    "azo_trans_w_xy_max, azo_trans_w_xy_max_err = zip(*[fit[3] for fit in azo_trans_fit])"
   ]
  },
  {
   "cell_type": "code",
   "execution_count": 64,
   "metadata": {},
   "outputs": [],
   "source": [
    "mpl.plot_saxs(\n",
    "    [Q_xy]*len(azo_trans_roi) + [azo_trans_Qxy_fit]*len(azo_trans_fit),\n",
    "    azo_trans_roi + azo_trans_I_fit,\n",
    "    scatter=[True]*len(azo_trans_roi) + [False]*len(azo_trans_fit),\n",
    "    colors=['C{}'.format(i) for i in range(len(azo_trans_roi))]+['C{}'.format(i) for i in range(len(azo_trans_fit))],\n",
    "    offset=[5*item for item in range(len(azo_trans_roi))]+[5*item for item in range(len(azo_trans_fit))],\n",
    "    ylim=[-5, 35],\n",
    "    log_scale=False,\n",
    "    xlabel='Q_xy (A$^{-1}$)',\n",
    "    ylabel='I (a.u.)',\n",
    "    save_path=azo_trans_save_path / 'azo_trans_roi.png',\n",
    "    title=f'Azo Trans ROI',\n",
    "    labels=[f'{pressure} mN/m' for pressure in azo_trans_pressure] + [f'{qmax:.2f}, {wmax:.2f} A^-1' for qmax, wmax in zip(azo_trans_Q_xy_max, azo_trans_w_xy_max)],\n",
    "    )"
   ]
  },
  {
   "cell_type": "code",
   "execution_count": 65,
   "metadata": {},
   "outputs": [],
   "source": [
    "azo_cis_1_fit = [fit.fit_lorentzian(Q_xy, I, fit_range, ignore_range, 1.4) for I, Q_xy in zip(azo_cis_1_roi, azo_cis_1_Qxy)]\n",
    "azo_cis_1_Qxy_fit = azo_cis_1_fit[0][0]\n",
    "azo_cis_1_I_fit = [fit[1] for fit in azo_cis_1_fit]\n",
    "azo_cis_1_Q_xy_max, azo_cis_1_Q_xy_max_err = zip(*[fit[2] for fit in azo_cis_1_fit])\n",
    "azo_cis_1_w_xy_max, azo_cis_1_w_xy_max_err = zip(*[fit[3] for fit in azo_cis_1_fit])"
   ]
  },
  {
   "cell_type": "code",
   "execution_count": 66,
   "metadata": {},
   "outputs": [],
   "source": [
    "mpl.plot_saxs(\n",
    "    [Q_xy]*len(azo_cis_1_roi) + [azo_cis_1_Qxy_fit]*len(azo_cis_1_fit),\n",
    "    azo_cis_1_roi + azo_cis_1_I_fit,\n",
    "    scatter=[True]*len(azo_cis_1_roi) + [False]*len(azo_cis_1_fit),\n",
    "    colors=['C{}'.format(i) for i in range(len(azo_cis_1_roi))]+['C{}'.format(i) for i in range(len(azo_cis_1_fit))],\n",
    "    offset=[5*item for item in range(len(azo_cis_1_roi))]+[5*item for item in range(len(azo_cis_1_fit))],\n",
    "    ylim=[-5, 35],\n",
    "    log_scale=False,\n",
    "    xlabel='Q_xy (A$^{-1}$)',\n",
    "    ylabel='I (a.u.)',\n",
    "    save_path=azo_cis_1_save_path / 'azo_cis_1_roi.png',\n",
    "    title=f'Azo Cis 1 ROI',\n",
    "    labels=[f'{pressure} mN/m' for pressure in azo_cis_1_pressure] + [f'{qmax:.2f}, {wmax:.2f} A^-1' for qmax, wmax in zip(azo_cis_1_Q_xy_max, azo_cis_1_w_xy_max)],\n",
    "    )\n"
   ]
  },
  {
   "cell_type": "code",
   "execution_count": 67,
   "metadata": {},
   "outputs": [],
   "source": [
    "azo_cis_2_fit = [fit.fit_lorentzian(Q_xy, I, fit_range, ignore_range, 1.4) for I, Q_xy in zip(azo_cis_2_roi, azo_cis_2_Qxy)]\n",
    "azo_cis_2_Qxy_fit = azo_cis_2_fit[0][0]\n",
    "azo_cis_2_I_fit = [fit[1] for fit in azo_cis_2_fit]\n",
    "azo_cis_2_Q_xy_max, azo_cis_2_Q_xy_max_err = zip(*[fit[2] for fit in azo_cis_2_fit])\n",
    "azo_cis_2_w_xy_max, azo_cis_2_w_xy_max_err = zip(*[fit[3] for fit in azo_cis_2_fit])"
   ]
  },
  {
   "cell_type": "code",
   "execution_count": 68,
   "metadata": {},
   "outputs": [],
   "source": [
    "mpl.plot_saxs(\n",
    "    [Q_xy]*len(azo_cis_2_roi) + [azo_cis_2_Qxy_fit]*len(azo_cis_2_fit),\n",
    "    azo_cis_2_roi + azo_cis_2_I_fit,\n",
    "    scatter=[True]*len(azo_cis_2_roi) + [False]*len(azo_cis_2_fit),\n",
    "    colors=['C{}'.format(i) for i in range(len(azo_cis_2_roi))]+['C{}'.format(i) for i in range(len(azo_cis_2_fit))],\n",
    "    offset=[5*item for item in range(len(azo_cis_2_roi))]+[5*item for item in range(len(azo_cis_2_fit))],\n",
    "    ylim=[-5, 35],\n",
    "    log_scale=False,\n",
    "    xlabel='Q_xy (A$^{-1}$)',\n",
    "    ylabel='I (a.u.)',\n",
    "    save_path=azo_cis_2_save_path / 'azo_cis_2_roi.png',\n",
    "    title=f'Azo Cis 2 ROI',\n",
    "    labels=[f'{pressure} mN/m' for pressure in azo_cis_2_pressure] + [f'{qmax:.2f}, {wmax:.2f} A^-1' for qmax, wmax in zip(azo_cis_2_Q_xy_max, azo_cis_2_w_xy_max)],\n",
    "    )"
   ]
  },
  {
   "cell_type": "code",
   "execution_count": 69,
   "metadata": {},
   "outputs": [],
   "source": [
    "azo_cis_3_fit = [fit.fit_lorentzian(Q_xy, I, fit_range, [], 1.4) for I, Q_xy in zip(azo_cis_3_roi, azo_cis_3_Qxy)]\n",
    "azo_cis_3_Qxy_fit = azo_cis_3_fit[0][0]\n",
    "azo_cis_3_I_fit = [fit[1] for fit in azo_cis_3_fit]\n",
    "azo_cis_3_Q_xy_max, azo_cis_3_Q_xy_max_err = zip(*[fit[2] for fit in azo_cis_3_fit])\n",
    "azo_cis_3_w_xy_max, azo_cis_3_w_xy_max_err = zip(*[fit[3] for fit in azo_cis_3_fit])"
   ]
  },
  {
   "cell_type": "code",
   "execution_count": 70,
   "metadata": {},
   "outputs": [],
   "source": [
    "mpl.plot_saxs(\n",
    "    [Q_xy]*len(azo_cis_3_roi) + [azo_cis_3_Qxy_fit]*len(azo_cis_3_fit),\n",
    "    azo_cis_3_roi + azo_cis_3_I_fit,\n",
    "    scatter=[True]*len(azo_cis_3_roi) + [False]*len(azo_cis_3_fit),\n",
    "    colors=['C{}'.format(i) for i in range(len(azo_cis_3_roi))]+['C{}'.format(i) for i in range(len(azo_cis_3_fit))],\n",
    "    offset=[5*item for item in range(len(azo_cis_3_roi))]+[5*item for item in range(len(azo_cis_3_fit))],\n",
    "    ylim=[-5, 35],\n",
    "    log_scale=False,\n",
    "    xlabel='Q_xy (A$^{-1}$)',\n",
    "    ylabel='I (a.u.)',\n",
    "    save_path=azo_cis_3_save_path / 'azo_cis_3_roi.png',\n",
    "    title=f'Azo Cis 3 ROI',\n",
    "    labels=[f'{pressure} mN/m' for pressure in azo_cis_3_pressure] + [f'{qmax:.2f}, {wmax:.2f} A^-1' for qmax, wmax in zip(azo_cis_3_Q_xy_max, azo_cis_3_w_xy_max)],\n",
    "    )"
   ]
  },
  {
   "cell_type": "code",
   "execution_count": 71,
   "metadata": {},
   "outputs": [],
   "source": [
    "dopc_fit = [fit.fit_lorentzian(Q_xy, I, fit_range, [], 1.4) for I, Q_xy in zip(dopc_roi, dopc_Qxy)]\n",
    "dopc_Qxy_fit = dopc_fit[0][0]\n",
    "dopc_I_fit = [fit[1] for fit in dopc_fit]\n",
    "dopc_Q_xy_max, dopc_Q_xy_max_err = zip(*[fit[2] for fit in dopc_fit])\n",
    "dopc_w_xy_max, dopc_w_xy_max_err = zip(*[fit[3] for fit in dopc_fit])"
   ]
  },
  {
   "cell_type": "code",
   "execution_count": 72,
   "metadata": {},
   "outputs": [],
   "source": [
    "mpl.plot_saxs(\n",
    "    [Q_xy]*len(dopc_roi) + [dopc_Qxy_fit]*len(dopc_fit),\n",
    "    dopc_roi + dopc_I_fit,\n",
    "    scatter=[True]*len(dopc_roi) + [False]*len(dopc_fit),\n",
    "    colors=['C{}'.format(i) for i in range(len(dopc_roi))]+['C{}'.format(i) for i in range(len(dopc_fit))],\n",
    "    offset=[5*item for item in range(len(dopc_roi))]+[5*item for item in range(len(dopc_fit))],\n",
    "    ylim=[-5, 35],\n",
    "    log_scale=False,\n",
    "    xlabel='Q_xy (A$^{-1}$)',\n",
    "    ylabel='I (a.u.)',\n",
    "    save_path=dopc_save_path / 'dopc_roi.png',\n",
    "    title=f'DOPC ROI',\n",
    "    labels=[f'{pressure} mN/m' for pressure in dopc_pressure] + [f'{qmax:.2f}, {wmax:.2f} A^-1' for qmax, wmax in zip(dopc_Q_xy_max, dopc_w_xy_max)],\n",
    "    )"
   ]
  },
  {
   "cell_type": "code",
   "execution_count": 73,
   "metadata": {},
   "outputs": [],
   "source": [
    "red_azo_fit = [fit.fit_lorentzian(Q_xy, I, fit_range, [], 1.4) for I, Q_xy in zip(red_azo_roi, red_azo_Qxy)]\n",
    "red_azo_Qxy_fit = red_azo_fit[0][0]\n",
    "red_azo_I_fit = [fit[1] for fit in red_azo_fit]\n",
    "red_azo_Q_xy_max, red_azo_Q_xy_max_err = zip(*[fit[2] for fit in red_azo_fit])\n",
    "red_azo_w_xy_max, red_azo_w_xy_max_err = zip(*[fit[3] for fit in red_azo_fit])"
   ]
  },
  {
   "cell_type": "code",
   "execution_count": 74,
   "metadata": {},
   "outputs": [],
   "source": [
    "mpl.plot_saxs(\n",
    "    [Q_xy]*len(red_azo_roi) + [red_azo_Qxy_fit]*len(red_azo_fit),\n",
    "    red_azo_roi + red_azo_I_fit,\n",
    "    scatter=[True]*len(red_azo_roi) + [False]*len(red_azo_fit),\n",
    "    colors=['C{}'.format(i) for i in range(len(red_azo_roi))]+['C{}'.format(i) for i in range(len(red_azo_fit))],\n",
    "    offset=[5*item for item in range(len(red_azo_roi))]+[5*item for item in range(len(red_azo_fit))],\n",
    "    ylim=[-5, 35],\n",
    "    log_scale=False,\n",
    "    xlabel='Q_xy (A$^{-1}$)',\n",
    "    ylabel='I (a.u.)',\n",
    "    save_path=red_azo_save_path / 'red_azo_roi.png',\n",
    "    title=f'Red Azo ROI',\n",
    "    labels=[f'{pressure} mN/m' for pressure in red_azo_pressure] + [f'{qmax:.2f}, {wmax:.2f} A^-1' for qmax, wmax in zip(red_azo_Q_xy_max, red_azo_w_xy_max)],\n",
    "    )"
   ]
  },
  {
   "cell_type": "code",
   "execution_count": 75,
   "metadata": {},
   "outputs": [],
   "source": [
    "mpl.plot_saxs(\n",
    "    [Q_xy, Q_xy, Q_xy, Q_xy, azo_trans_Qxy_fit, azo_cis_1_Qxy_fit, azo_cis_2_Qxy_fit, azo_cis_3_Qxy_fit],\n",
    "    [azo_trans_roi[-1], azo_cis_1_roi[-1], azo_cis_2_roi[-1], azo_cis_3_roi[-1], azo_trans_I_fit[-1], azo_cis_1_I_fit[-1], azo_cis_2_I_fit[-1], azo_cis_3_I_fit[-1]],\n",
    "    scatter=[True]*4 + [False]*4,\n",
    "    colors=['C{}'.format(i) for i in range(4)] + ['C{}'.format(i) for i in range(4)],\n",
    "    offset=[5*item for item in range(4)] + [5*item for item in range(4)],\n",
    "    ylim=[-5, 35],\n",
    "    log_scale=False,\n",
    "    xlabel='Q_xy (A$^{-1}$)',\n",
    "    ylabel='I (a.u.)',\n",
    "    save_path=plot_path / 'compare_roi.png',\n",
    "    title=f'Compare ROI at 30 mN/m',\n",
    "    labels=['azo_trans', 'azo_cis_1', 'azo_cis_2', 'azo_cis_3', \n",
    "            f'azo_trans_fit: {azo_trans_Q_xy_max[-1]:.2f}, {azo_trans_w_xy_max[-1]:.2f} A^-1', \n",
    "            f'azo_cis_1_fit: {azo_cis_1_Q_xy_max[-1]:.2f}, {azo_cis_1_w_xy_max[-1]:.2f} A^-1', \n",
    "            f'azo_cis_2_fit: {azo_cis_2_Q_xy_max[-1]:.2f}, {azo_cis_2_w_xy_max[-1]:.2f} A^-1', \n",
    "            f'azo_cis_3_fit: {azo_cis_3_Q_xy_max[-1]:.2f}, {azo_cis_3_w_xy_max[-1]:.2f} A^-1'],\n",
    ")"
   ]
  },
  {
   "cell_type": "markdown",
   "metadata": {},
   "source": [
    "Parameters"
   ]
  },
  {
   "cell_type": "code",
   "execution_count": 78,
   "metadata": {},
   "outputs": [],
   "source": [
    "mpl.plot_errorbar(\n",
    "    x_data=[azo_trans_pressure, azo_cis_1_pressure, azo_cis_2_pressure, azo_cis_3_pressure, dopc_pressure, red_azo_pressure],\n",
    "    y_data=[azo_trans_Q_xy_max, azo_cis_1_Q_xy_max, azo_cis_2_Q_xy_max, azo_cis_3_Q_xy_max, dopc_Q_xy_max, red_azo_Q_xy_max],\n",
    "    y_err=[azo_trans_Q_xy_max_err, azo_cis_1_Q_xy_max_err, azo_cis_2_Q_xy_max_err, azo_cis_3_Q_xy_max_err, dopc_Q_xy_max_err, red_azo_Q_xy_max_err],\n",
    "    labels=['azo_trans', 'azo_cis_1', 'azo_cis_2', 'azo_cis_3', 'dopc', 'red_azo'],\n",
    "    xlabel='Pressure (mN/m)',\n",
    "    ylabel='Q$_{xy}$ (Å$^{-1}$)',\n",
    "    title='Q$_{xy}$ vs Pressure',\n",
    "    save_path=plot_path / 'Qxy_vs_pressure.png'\n",
    ")"
   ]
  },
  {
   "cell_type": "code",
   "execution_count": 79,
   "metadata": {},
   "outputs": [],
   "source": [
    "mpl.plot_errorbar(\n",
    "    x_data=[azo_trans_pressure, azo_cis_1_pressure, azo_cis_2_pressure, azo_cis_3_pressure, dopc_pressure, red_azo_pressure],\n",
    "    y_data=[azo_trans_w_xy_max, azo_cis_1_w_xy_max, azo_cis_2_w_xy_max, azo_cis_3_w_xy_max, dopc_w_xy_max, red_azo_w_xy_max],\n",
    "    y_err=[azo_trans_w_xy_max_err, azo_cis_1_w_xy_max_err, azo_cis_2_w_xy_max_err, azo_cis_3_w_xy_max_err, dopc_w_xy_max_err, red_azo_w_xy_max_err],\n",
    "    labels=['azo_trans', 'azo_cis_1', 'azo_cis_2', 'azo_cis_3', 'dopc', 'red_azo'],\n",
    "    xlabel='Pressure (mN/m)',\n",
    "    ylabel='w$_{xy}$ (Å$^{-1}$)',\n",
    "    title='w$_{xy}$ vs Pressure',\n",
    "    save_path=plot_path / 'wxy_vs_pressure.png'\n",
    ")"
   ]
  },
  {
   "cell_type": "code",
   "execution_count": null,
   "metadata": {},
   "outputs": [],
   "source": []
  }
 ],
 "metadata": {
  "kernelspec": {
   "display_name": "base",
   "language": "python",
   "name": "python3"
  },
  "language_info": {
   "codemirror_mode": {
    "name": "ipython",
    "version": 3
   },
   "file_extension": ".py",
   "mimetype": "text/x-python",
   "name": "python",
   "nbconvert_exporter": "python",
   "pygments_lexer": "ipython3",
   "version": "3.12.9"
  }
 },
 "nbformat": 4,
 "nbformat_minor": 2
}
