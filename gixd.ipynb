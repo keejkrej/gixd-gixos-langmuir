{
 "cells": [
  {
   "cell_type": "code",
   "execution_count": 1,
   "metadata": {},
   "outputs": [],
   "source": [
    "from pathlib import Path\n",
    "import numpy as np\n",
    "import matplotlib.pyplot as plt"
   ]
  },
  {
   "cell_type": "markdown",
   "metadata": {},
   "source": [
    "Load data and subtract water"
   ]
  },
  {
   "cell_type": "code",
   "execution_count": 2,
   "metadata": {},
   "outputs": [],
   "source": [
    "data_path = Path('~/workspace/data/lipid/GIXD').expanduser()\n",
    "plot_path = Path('~/workspace/plot/lipid/GIXD').expanduser()"
   ]
  },
  {
   "cell_type": "code",
   "execution_count": 3,
   "metadata": {},
   "outputs": [],
   "source": [
    "water_path = data_path / 'water'\n",
    "water_index = [44]\n",
    "water_pressure = [0.4]\n",
    "water_I_path = [water_path / f'water_{i}_{i}_combined_I.dat' for i in water_index]\n",
    "water_Qxy_path = [water_path / f'water_{i}_{i}_combined_Qxy.dat' for i in water_index]\n",
    "water_Qz_path = [water_path / f'water_{i}_{i}_combined_Qz.dat' for i in water_index]\n",
    "water_I = [np.loadtxt(path) for path in water_I_path]\n",
    "water_Qxy = [np.loadtxt(path) for path in water_Qxy_path]\n",
    "water_Qz = [np.loadtxt(path) for path in water_Qz_path]"
   ]
  },
  {
   "cell_type": "code",
   "execution_count": 4,
   "metadata": {},
   "outputs": [],
   "source": [
    "azo_trans_path = data_path / 'azo_trans'\n",
    "azo_trans_index = [54, 58, 62]\n",
    "azo_trans_pressure = [10, 20, 30]\n",
    "azo_trans_I_path = [azo_trans_path / f'azotrans_{i}_{i}_combined_I.dat' for i in azo_trans_index]\n",
    "azo_trans_Qxy_path = [azo_trans_path / f'azotrans_{i}_{i}_combined_Qxy.dat' for i in azo_trans_index]\n",
    "azo_trans_Qz_path = [azo_trans_path / f'azotrans_{i}_{i}_combined_Qz.dat' for i in azo_trans_index]\n",
    "azo_trans_I = [np.loadtxt(path) for path in azo_trans_I_path]\n",
    "azo_trans_Qxy = [np.loadtxt(path) for path in azo_trans_Qxy_path]\n",
    "azo_trans_Qz = [np.loadtxt(path) for path in azo_trans_Qz_path]\n",
    "azo_trans_I -= water_I[0]\n",
    "azo_trans_save_path = plot_path / 'azo_trans'\n",
    "azo_trans_save_path.mkdir(parents=True, exist_ok=True)"
   ]
  },
  {
   "cell_type": "code",
   "execution_count": 5,
   "metadata": {},
   "outputs": [],
   "source": [
    "azo_cis_1_path = data_path / 'azo_cis_1'\n",
    "azo_cis_1_index = [78, 82, 86, 90, 94]\n",
    "azo_cis_1_pressure = [5, 10, 20, 30, 30]\n",
    "azo_cis_1_I_path = [azo_cis_1_path / f'azocis_{i}_{i}_combined_I.dat' for i in azo_cis_1_index]\n",
    "azo_cis_1_Qxy_path = [azo_cis_1_path / f'azocis_{i}_{i}_combined_Qxy.dat' for i in azo_cis_1_index]\n",
    "azo_cis_1_Qz_path = [azo_cis_1_path / f'azocis_{i}_{i}_combined_Qz.dat' for i in azo_cis_1_index]\n",
    "azo_cis_1_I = [np.loadtxt(path) for path in azo_cis_1_I_path]\n",
    "azo_cis_1_Qxy = [np.loadtxt(path) for path in azo_cis_1_Qxy_path]\n",
    "azo_cis_1_Qz = [np.loadtxt(path) for path in azo_cis_1_Qz_path]\n",
    "azo_cis_1_I -= water_I[0]\n",
    "azo_cis_1_save_path = plot_path / 'azo_cis_1'\n",
    "azo_cis_1_save_path.mkdir(parents=True, exist_ok=True)"
   ]
  },
  {
   "cell_type": "code",
   "execution_count": 6,
   "metadata": {},
   "outputs": [],
   "source": [
    "azo_cis_2_path = data_path / 'azo_cis_2'\n",
    "azo_cis_2_index = [106, 110]\n",
    "azo_cis_2_pressure = [3.3, 30]\n",
    "azo_cis_2_I_path = [azo_cis_2_path / f'azocis02_{i}_{i}_combined_I.dat' for i in azo_cis_2_index]\n",
    "azo_cis_2_Qxy_path = [azo_cis_2_path / f'azocis02_{i}_{i}_combined_Qxy.dat' for i in azo_cis_2_index]\n",
    "azo_cis_2_Qz_path = [azo_cis_2_path / f'azocis02_{i}_{i}_combined_Qz.dat' for i in azo_cis_2_index]\n",
    "azo_cis_2_I = [np.loadtxt(path) for path in azo_cis_2_I_path]\n",
    "azo_cis_2_Qxy = [np.loadtxt(path) for path in azo_cis_2_Qxy_path]\n",
    "azo_cis_2_Qz = [np.loadtxt(path) for path in azo_cis_2_Qz_path]\n",
    "azo_cis_2_I -= water_I[0]\n",
    "azo_cis_2_save_path = plot_path / 'azo_cis_2'\n",
    "azo_cis_2_save_path.mkdir(parents=True, exist_ok=True)"
   ]
  },
  {
   "cell_type": "code",
   "execution_count": 7,
   "metadata": {},
   "outputs": [],
   "source": [
    "azo_cis_3_path = data_path / 'azo_cis_3'\n",
    "azo_cis_3_index = [115, 119]\n",
    "azo_cis_3_pressure = [0.1, 30]\n",
    "azo_cis_3_I_path = [azo_cis_3_path / f'azocis03_{i}_{i}_combined_I.dat' for i in azo_cis_3_index]\n",
    "azo_cis_3_Qxy_path = [azo_cis_3_path / f'azocis03_{i}_{i}_combined_Qxy.dat' for i in azo_cis_3_index]\n",
    "azo_cis_3_Qz_path = [azo_cis_3_path / f'azocis03_{i}_{i}_combined_Qz.dat' for i in azo_cis_3_index]\n",
    "azo_cis_3_I = [np.loadtxt(path) for path in azo_cis_3_I_path]\n",
    "azo_cis_3_Qxy = [np.loadtxt(path) for path in azo_cis_3_Qxy_path]\n",
    "azo_cis_3_Qz = [np.loadtxt(path) for path in azo_cis_3_Qz_path]\n",
    "azo_cis_3_I -= water_I[0]\n",
    "azo_cis_3_save_path = plot_path / 'azo_cis_3'\n",
    "azo_cis_3_save_path.mkdir(parents=True, exist_ok=True)"
   ]
  },
  {
   "cell_type": "code",
   "execution_count": 8,
   "metadata": {},
   "outputs": [],
   "source": [
    "dopc_path = data_path / 'dopc'\n",
    "dopc_index = [16, 12]\n",
    "dopc_pressure = [0.1, 10]\n",
    "dopc_I_path = [dopc_path / f'dopc_{i}_{i}_combined_I.dat' for i in dopc_index]\n",
    "dopc_Qxy_path = [dopc_path / f'dopc_{i}_{i}_combined_Qxy.dat' for i in dopc_index]\n",
    "dopc_Qz_path = [dopc_path / f'dopc_{i}_{i}_combined_Qz.dat' for i in dopc_index]\n",
    "dopc_I = [np.loadtxt(path) for path in dopc_I_path]\n",
    "dopc_Qxy = [np.loadtxt(path) for path in dopc_Qxy_path]\n",
    "dopc_Qz = [np.loadtxt(path) for path in dopc_Qz_path]\n",
    "dopc_I -= water_I[0]\n",
    "dopc_save_path = plot_path / 'dopc'\n",
    "dopc_save_path.mkdir(parents=True, exist_ok=True)"
   ]
  },
  {
   "cell_type": "code",
   "execution_count": 9,
   "metadata": {},
   "outputs": [],
   "source": [
    "red_azo_path = data_path / 'red_azo'\n",
    "red_azo_index = [128, 132, 136, 140]\n",
    "red_azo_pressure = [0.1, 10, 20, 30]\n",
    "red_azo_I_path = [red_azo_path / f'redazo_{i}_{i}_combined_I.dat' for i in red_azo_index]\n",
    "red_azo_Qxy_path = [red_azo_path / f'redazo_{i}_{i}_combined_Qxy.dat' for i in red_azo_index]\n",
    "red_azo_Qz_path = [red_azo_path / f'redazo_{i}_{i}_combined_Qz.dat' for i in red_azo_index]\n",
    "red_azo_I = [np.loadtxt(path) for path in red_azo_I_path]\n",
    "red_azo_Qxy = [np.loadtxt(path) for path in red_azo_Qxy_path]\n",
    "red_azo_Qz = [np.loadtxt(path) for path in red_azo_Qz_path]\n",
    "red_azo_I -= water_I[0]\n",
    "red_azo_save_path = plot_path / 'red_azo'\n",
    "red_azo_save_path.mkdir(parents=True, exist_ok=True)"
   ]
  },
  {
   "cell_type": "markdown",
   "metadata": {},
   "source": [
    "Plot data"
   ]
  },
  {
   "cell_type": "code",
   "execution_count": 10,
   "metadata": {},
   "outputs": [],
   "source": [
    "from xrd_anlyutils.plot import mpl"
   ]
  },
  {
   "cell_type": "code",
   "execution_count": 11,
   "metadata": {},
   "outputs": [],
   "source": [
    "def plot_gixd_images(I_list, Qxy_list, Qz_list, index_list, pressure_list, name, save_path):\n",
    "    for I, Qxy, Qz, index, pressure in zip(I_list, Qxy_list, Qz_list, index_list, pressure_list):\n",
    "        mpl.plot_images([I],\n",
    "                    nrows=1,\n",
    "                    ncols=1,\n",
    "                    titles=[f'{name} {index}: {pressure} mN/m'],\n",
    "                    origin='lower',\n",
    "                    vmin=0,\n",
    "                    vmax=30,\n",
    "                    figsize=(6, 6),\n",
    "                    extent=(Qxy[0], Qxy[-1], Qz[0], Qz[-1]),\n",
    "                    xlabel='Qxy (A$^{-1}$)',\n",
    "                    ylabel='Qz (A$^{-1}$)',\n",
    "                    save_path=save_path / f'{name.lower().replace(\" \", \"_\")}_scan_{index}_pressure_{pressure}mN_m.png',\n",
    "                    )"
   ]
  },
  {
   "cell_type": "code",
   "execution_count": 12,
   "metadata": {},
   "outputs": [],
   "source": [
    "# plot_gixd_images(azo_trans_I, azo_trans_Qxy, azo_trans_Qz, azo_trans_index, azo_trans_pressure, 'Azo Trans', azo_trans_save_path)\n",
    "# plot_gixd_images(azo_cis_1_I, azo_cis_1_Qxy, azo_cis_1_Qz, azo_cis_1_index, azo_cis_1_pressure, 'Azo Cis 1', azo_cis_1_save_path)\n",
    "# plot_gixd_images(azo_cis_2_I, azo_cis_2_Qxy, azo_cis_2_Qz, azo_cis_2_index, azo_cis_2_pressure, 'Azo Cis 2', azo_cis_2_save_path)\n",
    "# plot_gixd_images(azo_cis_3_I, azo_cis_3_Qxy, azo_cis_3_Qz, azo_cis_3_index, azo_cis_3_pressure, 'Azo Cis 3', azo_cis_3_save_path)\n",
    "# plot_gixd_images(dopc_I, dopc_Qxy, dopc_Qz, dopc_index, dopc_pressure, 'DOPC', dopc_save_path)\n",
    "# plot_gixd_images(red_azo_I, red_azo_Qxy, red_azo_Qz, red_azo_index, red_azo_pressure, 'Red Azo', red_azo_save_path)"
   ]
  },
  {
   "cell_type": "markdown",
   "metadata": {},
   "source": [
    "Process data"
   ]
  },
  {
   "cell_type": "code",
   "execution_count": 13,
   "metadata": {},
   "outputs": [],
   "source": [
    "from xrd_anlyutils.math import roi"
   ]
  },
  {
   "cell_type": "code",
   "execution_count": 14,
   "metadata": {},
   "outputs": [],
   "source": [
    "Qxy = azo_trans_Qxy[0]\n",
    "Qz = azo_trans_Qz[0]\n",
    "bbox_z = [1.0, 1.8, 0.04, 0.2]\n",
    "bbox_xy = [1.3, 1.5, 0.04, 1.2]"
   ]
  },
  {
   "cell_type": "code",
   "execution_count": 15,
   "metadata": {},
   "outputs": [],
   "source": [
    "def get_roi_data(I_list, Qxy_list, Qz_list, bbox_z, bbox_xy):\n",
    "    roi_xy = [roi.get_avg(bbox_z, I, Qxy, Qz, axis=0) for I, Qxy, Qz in zip(I_list, Qxy_list, Qz_list)]\n",
    "    roi_z = [roi.get_avg(bbox_xy, I, Qxy, Qz, axis=1) for I, Qxy, Qz in zip(I_list, Qxy_list, Qz_list)]\n",
    "    return roi_xy, roi_z"
   ]
  },
  {
   "cell_type": "code",
   "execution_count": 16,
   "metadata": {},
   "outputs": [
    {
     "name": "stderr",
     "output_type": "stream",
     "text": [
      "/Users/jack/workspace/own/xrd-anlyutils/src/xrd_anlyutils/math/roi.py:13: RuntimeWarning: Mean of empty slice\n",
      "  avg = np.nanmean(crop, axis=axis)\n"
     ]
    }
   ],
   "source": [
    "azo_trans_roi_xy, azo_trans_roi_z = get_roi_data(azo_trans_I, azo_trans_Qxy, azo_trans_Qz, bbox_z, bbox_xy)\n",
    "azo_cis_1_roi_xy, azo_cis_1_roi_z = get_roi_data(azo_cis_1_I, azo_cis_1_Qxy, azo_cis_1_Qz, bbox_z, bbox_xy)\n",
    "azo_cis_2_roi_xy, azo_cis_2_roi_z = get_roi_data(azo_cis_2_I, azo_cis_2_Qxy, azo_cis_2_Qz, bbox_z, bbox_xy)\n",
    "azo_cis_3_roi_xy, azo_cis_3_roi_z = get_roi_data(azo_cis_3_I, azo_cis_3_Qxy, azo_cis_3_Qz, bbox_z, bbox_xy)\n",
    "dopc_roi_xy, dopc_roi_z = get_roi_data(dopc_I, dopc_Qxy, dopc_Qz, bbox_z, bbox_xy)\n",
    "red_azo_roi_xy, red_azo_roi_z = get_roi_data(red_azo_I, red_azo_Qxy, red_azo_Qz, bbox_z, bbox_xy)"
   ]
  },
  {
   "cell_type": "code",
   "execution_count": 17,
   "metadata": {},
   "outputs": [],
   "source": [
    "from xrd_anlyutils.math import fit"
   ]
  },
  {
   "cell_type": "code",
   "execution_count": 18,
   "metadata": {},
   "outputs": [],
   "source": [
    "fit_range_xy = [1.0, 1.8]\n",
    "ignore_range_xy = [[1.5, 1.55], [1.65, 1.7]]\n",
    "fit_range_z = [0.04, 1.2]"
   ]
  },
  {
   "cell_type": "code",
   "execution_count": 19,
   "metadata": {},
   "outputs": [],
   "source": [
    "def fit_lorentzian_data(roi_xy, Qxy, fit_range_xy, ignore_range_xy, peak_pos):\n",
    "    fits = [fit.fit_lorentzian(Qxy, I, fit_range_xy, ignore_range_xy, peak_pos) for I, Qxy in zip(roi_xy, Qxy)]\n",
    "    Qxy_fit = [fit[0] for fit in fits]\n",
    "    I_fit = [fit[1] for fit in fits]\n",
    "    Qxy_max, Qxy_max_err = zip(*[fit[2] for fit in fits])\n",
    "    wxy_max, wxy_max_err = zip(*[fit[3] for fit in fits])\n",
    "    return Qxy_fit, I_fit, Qxy_max, Qxy_max_err, wxy_max, wxy_max_err"
   ]
  },
  {
   "cell_type": "code",
   "execution_count": 20,
   "metadata": {},
   "outputs": [],
   "source": [
    "def fit_gaussian_data(roi_z, Qz, fit_range_z, ignore_range_z):\n",
    "    fits = [fit.fit_gaussian(Qz, I, fit_range_z, ignore_range_z) for I, Qz in zip(roi_z, Qz)]\n",
    "    Qz_fit = [fit[0] for fit in fits]\n",
    "    I_fit = [fit[1] for fit in fits]\n",
    "    wz_max, wz_max_err = zip(*[fit[2] for fit in fits])\n",
    "    return Qz_fit, I_fit, wz_max, wz_max_err"
   ]
  },
  {
   "cell_type": "code",
   "execution_count": 21,
   "metadata": {},
   "outputs": [],
   "source": [
    "def plot_roi_xy(Qxy, roi_xy, Qxy_fit, I_fit, pressure, Qxy_max, wxy_max, save_path, title):\n",
    "    mpl.plot_saxs(\n",
    "        Qxy + Qxy_fit,\n",
    "        roi_xy + I_fit,\n",
    "        scatter=[True]*len(roi_xy) + [False]*len(roi_xy),\n",
    "        colors=['C{}'.format(i) for i in range(len(roi_xy))]+['C{}'.format(i) for i in range(len(roi_xy))],\n",
    "        offset=[5*item for item in range(len(roi_xy))]+[5*item for item in range(len(roi_xy))],\n",
    "        ylim=[-5, 35],\n",
    "        log_scale=False,\n",
    "        xlabel='Qxy (A$^{-1}$)',\n",
    "        ylabel='I (a.u.)',\n",
    "        save_path=save_path / f'{title.lower().replace(\" \", \"_\")}.png',\n",
    "        title=title,\n",
    "        labels=[f'{p} mN/m' for p in pressure] + [f'{qmax:.2f}, {wmax:.2f} A^-1' for qmax, wmax in zip(Qxy_max, wxy_max)],\n",
    "    )"
   ]
  },
  {
   "cell_type": "code",
   "execution_count": 22,
   "metadata": {},
   "outputs": [],
   "source": [
    "def plot_roi_z(Qz, roi_z, Qz_fit, I_fit, pressure, wz_max, save_path, title):\n",
    "    mpl.plot_saxs(\n",
    "        Qz + Qz_fit,\n",
    "        roi_z + I_fit,\n",
    "        scatter=[True]*len(roi_z) + [False]*len(roi_z),\n",
    "        colors=['C{}'.format(i) for i in range(len(roi_z))]+['C{}'.format(i) for i in range(len(roi_z))],\n",
    "        offset=[5*item for item in range(len(roi_z))]+[5*item for item in range(len(roi_z))],\n",
    "        ylim=[-5, 35],\n",
    "        log_scale=False,\n",
    "        xlabel='Qz (A$^{-1}$)',\n",
    "        ylabel='I (a.u.)',\n",
    "        save_path=save_path / f'{title.lower().replace(\" \", \"_\")}.png',\n",
    "        title=title,\n",
    "        labels=[f'{p} mN/m' for p in pressure] + [f'{wmax:.2f} A^-1' for wmax in wz_max],\n",
    "    )"
   ]
  },
  {
   "cell_type": "code",
   "execution_count": 23,
   "metadata": {},
   "outputs": [],
   "source": [
    "azo_trans_Qxy_fit_xy, azo_trans_I_fit_xy, azo_trans_Qxy_max_xy, azo_trans_Qxy_max_err_xy, azo_trans_wxy_max_xy, azo_trans_wxy_max_err_xy = fit_lorentzian_data(azo_trans_roi_xy, azo_trans_Qxy, fit_range_xy, ignore_range_xy, 1.4)\n",
    "azo_trans_Qz_fit_z, azo_trans_I_fit_z, azo_trans_wz_max_z, azo_trans_wz_max_err_z = fit_gaussian_data(azo_trans_roi_z, azo_trans_Qz, fit_range_z, [])\n",
    "plot_roi_xy(azo_trans_Qxy, azo_trans_roi_xy, azo_trans_Qxy_fit_xy, azo_trans_I_fit_xy, azo_trans_pressure, azo_trans_Qxy_max_xy, azo_trans_wxy_max_xy, azo_trans_save_path, 'Azo Trans ROI XY')\n",
    "plot_roi_z(azo_trans_Qz, azo_trans_roi_z, azo_trans_Qz_fit_z, azo_trans_I_fit_z, azo_trans_pressure, azo_trans_wz_max_z, azo_trans_save_path, 'Azo Trans ROI Z')"
   ]
  },
  {
   "cell_type": "code",
   "execution_count": 24,
   "metadata": {},
   "outputs": [],
   "source": [
    "azo_cis_1_Qxy_fit_xy, azo_cis_1_I_fit_xy, azo_cis_1_Qxy_max_xy, azo_cis_1_Qxy_max_err_xy, azo_cis_1_wxy_max_xy, azo_cis_1_wxy_max_err_xy = fit_lorentzian_data(azo_cis_1_roi_xy, azo_cis_1_Qxy, fit_range_xy, ignore_range_xy, 1.4)\n",
    "azo_cis_1_Qz_fit_z, azo_cis_1_I_fit_z, azo_cis_1_wz_max_z, azo_cis_1_wz_max_err_z = fit_gaussian_data(azo_cis_1_roi_z, azo_cis_1_Qz, fit_range_z, [])\n",
    "plot_roi_xy(azo_cis_1_Qxy, azo_cis_1_roi_xy, azo_cis_1_Qxy_fit_xy, azo_cis_1_I_fit_xy, azo_cis_1_pressure, azo_cis_1_Qxy_max_xy, azo_cis_1_wxy_max_xy, azo_cis_1_save_path, 'Azo Cis 1 ROI XY')\n",
    "plot_roi_z(azo_cis_1_Qz, azo_cis_1_roi_z, azo_cis_1_Qz_fit_z, azo_cis_1_I_fit_z, azo_cis_1_pressure, azo_cis_1_wz_max_z, azo_cis_1_save_path, 'Azo Cis 1 ROI Z')"
   ]
  },
  {
   "cell_type": "code",
   "execution_count": 25,
   "metadata": {},
   "outputs": [],
   "source": [
    "azo_cis_2_Qxy_fit_xy, azo_cis_2_I_fit_xy, azo_cis_2_Qxy_max_xy, azo_cis_2_Qxy_max_err_xy, azo_cis_2_wxy_max_xy, azo_cis_2_wxy_max_err_xy = fit_lorentzian_data(azo_cis_2_roi_xy, azo_cis_2_Qxy, fit_range_xy, ignore_range_xy, 1.4)\n",
    "azo_cis_2_Qz_fit_z, azo_cis_2_I_fit_z, azo_cis_2_wz_max_z, azo_cis_2_wz_max_err_z = fit_gaussian_data(azo_cis_2_roi_z, azo_cis_2_Qz, fit_range_z, [])\n",
    "plot_roi_xy(azo_cis_2_Qxy, azo_cis_2_roi_xy, azo_cis_2_Qxy_fit_xy, azo_cis_2_I_fit_xy, azo_cis_2_pressure, azo_cis_2_Qxy_max_xy, azo_cis_2_wxy_max_xy, azo_cis_2_save_path, 'Azo Cis 2 ROI XY')\n",
    "plot_roi_z(azo_cis_2_Qz, azo_cis_2_roi_z, azo_cis_2_Qz_fit_z, azo_cis_2_I_fit_z, azo_cis_2_pressure, azo_cis_2_wz_max_z, azo_cis_2_save_path, 'Azo Cis 2 ROI Z')"
   ]
  },
  {
   "cell_type": "code",
   "execution_count": 26,
   "metadata": {},
   "outputs": [],
   "source": [
    "azo_cis_3_Qxy_fit_xy, azo_cis_3_I_fit_xy, azo_cis_3_Qxy_max_xy, azo_cis_3_Qxy_max_err_xy, azo_cis_3_wxy_max_xy, azo_cis_3_wxy_max_err_xy = fit_lorentzian_data(azo_cis_3_roi_xy, azo_cis_3_Qxy, fit_range_xy, ignore_range_xy, 1.4)\n",
    "azo_cis_3_Qz_fit_z, azo_cis_3_I_fit_z, azo_cis_3_wz_max_z, azo_cis_3_wz_max_err_z = fit_gaussian_data(azo_cis_3_roi_z, azo_cis_3_Qz, fit_range_z, [])\n",
    "plot_roi_xy(azo_cis_3_Qxy, azo_cis_3_roi_xy, azo_cis_3_Qxy_fit_xy, azo_cis_3_I_fit_xy, azo_cis_3_pressure, azo_cis_3_Qxy_max_xy, azo_cis_3_wxy_max_xy, azo_cis_3_save_path, 'Azo Cis 3 ROI XY')\n",
    "plot_roi_z(azo_cis_3_Qz, azo_cis_3_roi_z, azo_cis_3_Qz_fit_z, azo_cis_3_I_fit_z, azo_cis_3_pressure, azo_cis_3_wz_max_z, azo_cis_3_save_path, 'Azo Cis 3 ROI Z')"
   ]
  },
  {
   "cell_type": "code",
   "execution_count": 27,
   "metadata": {},
   "outputs": [],
   "source": [
    "dopc_Qxy_fit_xy, dopc_I_fit_xy, dopc_Qxy_max_xy, dopc_Qxy_max_err_xy, dopc_wxy_max_xy, dopc_wxy_max_err_xy = fit_lorentzian_data(dopc_roi_xy, dopc_Qxy, fit_range_xy, ignore_range_xy, 1.4)\n",
    "dopc_Qz_fit_z, dopc_I_fit_z, dopc_wz_max_z, dopc_wz_max_err_z = fit_gaussian_data(dopc_roi_z, dopc_Qz, fit_range_z, [])\n",
    "plot_roi_xy(dopc_Qxy, dopc_roi_xy, dopc_Qxy_fit_xy, dopc_I_fit_xy, dopc_pressure, dopc_Qxy_max_xy, dopc_wxy_max_xy, dopc_save_path, 'DOPC ROI XY')\n",
    "plot_roi_z(dopc_Qz, dopc_roi_z, dopc_Qz_fit_z, dopc_I_fit_z, dopc_pressure, dopc_wz_max_z, dopc_save_path, 'DOPC ROI Z')"
   ]
  },
  {
   "cell_type": "code",
   "execution_count": 28,
   "metadata": {},
   "outputs": [],
   "source": [
    "red_azo_Qxy_fit_xy, red_azo_I_fit_xy, red_azo_Qxy_max_xy, red_azo_Qxy_max_err_xy, red_azo_wxy_max_xy, red_azo_wxy_max_err_xy = fit_lorentzian_data(red_azo_roi_xy, red_azo_Qxy, fit_range_xy, ignore_range_xy, 1.4)\n",
    "red_azo_Qz_fit_z, red_azo_I_fit_z, red_azo_wz_max_z, red_azo_wz_max_err_z = fit_gaussian_data(red_azo_roi_z, red_azo_Qz, fit_range_z, [])\n",
    "plot_roi_xy(red_azo_Qxy, red_azo_roi_xy, red_azo_Qxy_fit_xy, red_azo_I_fit_xy, red_azo_pressure, red_azo_Qxy_max_xy, red_azo_wxy_max_xy, red_azo_save_path, 'Red Azo ROI XY')\n",
    "plot_roi_z(red_azo_Qz, red_azo_roi_z, red_azo_Qz_fit_z, red_azo_I_fit_z, red_azo_pressure, red_azo_wz_max_z, red_azo_save_path, 'Red Azo ROI Z')"
   ]
  }
 ],
 "metadata": {
  "kernelspec": {
   "display_name": "base",
   "language": "python",
   "name": "python3"
  },
  "language_info": {
   "codemirror_mode": {
    "name": "ipython",
    "version": 3
   },
   "file_extension": ".py",
   "mimetype": "text/x-python",
   "name": "python",
   "nbconvert_exporter": "python",
   "pygments_lexer": "ipython3",
   "version": "3.12.9"
  }
 },
 "nbformat": 4,
 "nbformat_minor": 2
}
