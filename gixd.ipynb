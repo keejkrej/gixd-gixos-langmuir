{
 "cells": [
  {
   "cell_type": "code",
   "execution_count": 12,
   "metadata": {},
   "outputs": [],
   "source": [
    "from pathlib import Path\n",
    "import numpy as np\n",
    "import matplotlib.pyplot as plt"
   ]
  },
  {
   "cell_type": "markdown",
   "metadata": {},
   "source": [
    "Load data and subtract water"
   ]
  },
  {
   "cell_type": "code",
   "execution_count": 13,
   "metadata": {},
   "outputs": [],
   "source": [
    "data_path = Path('~/workspace/data/lipid/GIXD').expanduser()\n",
    "plot_path = Path('~/workspace/plot/lipid/GIXD').expanduser()"
   ]
  },
  {
   "cell_type": "code",
   "execution_count": 14,
   "metadata": {},
   "outputs": [],
   "source": [
    "def load_gixd_data(path: str, name: str, index: list, pressure: list):\n",
    "    \"\"\"\n",
    "    Load GIXD data from specified paths.\n",
    "    \n",
    "    Args:\n",
    "        path: Base directory path\n",
    "        name: Base name for files\n",
    "        index: List of index numbers\n",
    "        pressure: List of pressure values\n",
    "        \n",
    "    Returns:\n",
    "        Tuple containing:\n",
    "        - I: List of intensity data arrays\n",
    "        - Qxy: List of Qxy data arrays\n",
    "        - Qz: List of Qz data arrays\n",
    "    \"\"\"\n",
    "    \n",
    "    # Create paths\n",
    "    data_path = Path(path) / f'{name}'\n",
    "    I_paths = [data_path / f'{name}_{i}_{i}_combined_I.dat' for i in index]\n",
    "    Qxy_paths = [data_path / f'{name}_{i}_{i}_combined_Qxy.dat' for i in index]\n",
    "    Qz_paths = [data_path / f'{name}_{i}_{i}_combined_Qz.dat' for i in index]\n",
    "    \n",
    "    # Load data\n",
    "    I = [np.loadtxt(path) for path in I_paths]\n",
    "    Qxy = [np.loadtxt(path) for path in Qxy_paths]\n",
    "    Qz = [np.loadtxt(path) for path in Qz_paths]\n",
    "\n",
    "    I = np.nan_to_num(I, nan=0)\n",
    "    \n",
    "    return I, Qxy, Qz"
   ]
  },
  {
   "cell_type": "code",
   "execution_count": 15,
   "metadata": {},
   "outputs": [],
   "source": [
    "water_index = [44]\n",
    "water_pressure = [0.4]\n",
    "water_I, water_Qxy, water_Qz = load_gixd_data(data_path, 'water', water_index, water_pressure)\n",
    "\n",
    "azotrans_index = [54, 58, 62]\n",
    "azotrans_pressure = [10, 20, 30]\n",
    "azotrans_I, azotrans_Qxy, azotrans_Qz = load_gixd_data(data_path, 'azotrans', azotrans_index, azotrans_pressure)\n",
    "azotrans_I -= water_I[0]\n",
    "\n",
    "azocis_index = [78, 82, 86, 90]\n",
    "azocis_pressure = [5, 10, 20, 30]\n",
    "azocis_I, azocis_Qxy, azocis_Qz = load_gixd_data(data_path, 'azocis', azocis_index, azocis_pressure)\n",
    "azocis_I -= water_I[0]\n",
    "\n",
    "azocis02_index = [106, 110]\n",
    "azocis02_pressure = [3.3, 30]\n",
    "azocis02_I, azocis02_Qxy, azocis02_Qz = load_gixd_data(data_path, 'azocis02', azocis02_index, azocis02_pressure)\n",
    "azocis02_I -= water_I[0]\n",
    "\n",
    "azocis03_index = [115, 119]\n",
    "azocis03_pressure = [0.1, 30]\n",
    "azocis03_I, azocis03_Qxy, azocis03_Qz = load_gixd_data(data_path, 'azocis03', azocis03_index, azocis03_pressure)\n",
    "azocis03_I -= water_I[0]\n",
    "\n",
    "dopc_index = [16, 12, 20, 24]\n",
    "dopc_pressure = [0.1, 10, 20 ,30]\n",
    "dopc_I, dopc_Qxy, dopc_Qz = load_gixd_data(data_path, 'dopc', dopc_index, dopc_pressure)\n",
    "dopc_I -= water_I[0]\n",
    "\n",
    "redazo_index = [128, 132, 136, 140]\n",
    "redazo_pressure = [0.1, 10, 20, 30]\n",
    "redazo_I, redazo_Qxy, redazo_Qz = load_gixd_data(data_path, 'redazo', redazo_index, redazo_pressure)\n",
    "redazo_I -= water_I[0]"
   ]
  },
  {
   "cell_type": "code",
   "execution_count": 16,
   "metadata": {},
   "outputs": [
    {
     "name": "stdout",
     "output_type": "stream",
     "text": [
      "Qxy 0.655 1.8575 0.0024999999999999467\n",
      "Qz -0.0175 1.34 0.0025000000000000022\n"
     ]
    }
   ],
   "source": [
    "print(\"Qxy\", water_Qxy[0].min(), water_Qxy[0].max(), water_Qxy[0][1]-water_Qxy[0][0])\n",
    "print(\"Qz\", water_Qz[0].min(), water_Qz[0].max(), water_Qz[0][1]-water_Qz[0][0])"
   ]
  },
  {
   "cell_type": "markdown",
   "metadata": {},
   "source": [
    "Cartesian to polar coordinates"
   ]
  },
  {
   "cell_type": "code",
   "execution_count": 17,
   "metadata": {},
   "outputs": [],
   "source": [
    "from xrd_anlyutils.math import transform\n",
    "from xrd_anlyutils.math import roi"
   ]
  },
  {
   "cell_type": "code",
   "execution_count": 18,
   "metadata": {},
   "outputs": [],
   "source": [
    "def plot_gixd(I, Qxy, Qz, name, vmin=None, vmax=None, savepath=None):\n",
    "    fig, (ax1, ax2) = plt.subplots(1, 2, figsize=(12, 6))\n",
    "\n",
    "    im1 = ax1.imshow(I, cmap='inferno', extent=[np.min(Qxy), np.max(Qxy), np.min(Qz), np.max(Qz)], origin='lower', aspect='auto', vmin=vmin, vmax=vmax)\n",
    "    ax1.set_xlabel('Qxy [A$^{-1}$]')\n",
    "    ax1.set_ylabel('Qz [A$^{-1}$]')\n",
    "    ax1.set_title('Cartesian')\n",
    "    plt.colorbar(im1, ax=ax1)\n",
    "\n",
    "    I_polar, Q, theta = transform.cartesian2polar(I, Qxy, Qz, 0.01, 0.01)\n",
    "\n",
    "    im2 = ax2.imshow(I_polar, cmap='inferno', extent=[np.min(Q), np.max(Q), np.rad2deg(np.min(theta)), np.rad2deg(np.max(theta))], origin='lower', aspect='auto', vmin=vmin, vmax=vmax)\n",
    "    ax2.set_xlabel('Q [A$^{-1}$]')\n",
    "    ax2.set_ylabel('theta [deg]')\n",
    "    ax2.set_title('Polar Rebinning')\n",
    "    plt.colorbar(im2, ax=ax2)\n",
    "\n",
    "    fig.suptitle(name)\n",
    "    if savepath is not None:\n",
    "        if not savepath.exists():\n",
    "            savepath.mkdir(parents=True, exist_ok=True)\n",
    "        plt.savefig(savepath / f'{name}.png')\n",
    "        plt.close(fig)\n",
    "    else:\n",
    "        plt.show()"
   ]
  },
  {
   "cell_type": "code",
   "execution_count": 19,
   "metadata": {},
   "outputs": [],
   "source": [
    "for i in range(len(azotrans_I)):\n",
    "    plot_gixd(azotrans_I[i], azotrans_Qxy[i], azotrans_Qz[i], f'Azotrans {azotrans_pressure[i]}', 0, 10, plot_path / \"azotrans\")\n",
    "for i in range(len(azocis_I)):\n",
    "    plot_gixd(azocis_I[i], azocis_Qxy[i], azocis_Qz[i], f'Azocis {azocis_pressure[i]}', 0, 10, plot_path / \"azocis\")\n",
    "for i in range(len(azocis02_I)):\n",
    "    plot_gixd(azocis02_I[i], azocis02_Qxy[i], azocis02_Qz[i], f'Azocis02 {azocis02_pressure[i]}', 0, 10, plot_path / \"azocis02\")\n",
    "for i in range(len(azocis03_I)):\n",
    "    plot_gixd(azocis03_I[i], azocis03_Qxy[i], azocis03_Qz[i], f'Azocis03 {azocis03_pressure[i]}', 0, 10, plot_path / \"azocis03\")\n",
    "for i in range(len(dopc_I)):\n",
    "    plot_gixd(dopc_I[i], dopc_Qxy[i], dopc_Qz[i], f'Dopc {dopc_pressure[i]}', 0, 10, plot_path / \"dopc\")\n",
    "for i in range(len(redazo_I)):\n",
    "    plot_gixd(redazo_I[i], redazo_Qxy[i], redazo_Qz[i], f'Redazo {redazo_pressure[i]}', 0, 10, plot_path / \"redazo\")"
   ]
  },
  {
   "cell_type": "code",
   "execution_count": 28,
   "metadata": {},
   "outputs": [],
   "source": [
    "def plot_peak_profile(I, Qxy, Qz, name, savepath=None, labels=None):\n",
    "    fig, (ax1, ax2) = plt.subplots(1, 2, figsize=(12, 6))\n",
    "    for i in range(len(I)):\n",
    "        I_polar, Q, theta = transform.cartesian2polar(I[i], Qxy[i], Qz[i], 0.01, 0.01)\n",
    "        ax1.plot(Q, i + roi.get_avg([0.7, 1.8, 0, 0.2], I_polar, Q, theta, axis='y'), label=f'{labels[i]}')\n",
    "        ax2.plot(np.rad2deg(theta), 2 * i + roi.get_avg([1.25, 1.5, 0, 0.8], I_polar, Q, theta, axis='x'), label=f'{labels[i]}')\n",
    "    ax1.legend()\n",
    "    ax1.set_xlabel('Q [A$^{-1}$]')\n",
    "    ax1.set_ylabel('Intensity [a.u.]')\n",
    "    ax1.set_title(name)\n",
    "    ax2.legend()\n",
    "    ax2.set_xlabel('theta [deg]')\n",
    "    ax2.set_ylabel('Intensity [a.u.]')\n",
    "    ax2.set_title(name)\n",
    "    if savepath is not None:\n",
    "        if not savepath.exists():\n",
    "            savepath.mkdir(parents=True, exist_ok=True)\n",
    "        plt.savefig(savepath / f'{name}.png')\n",
    "        plt.close(fig)\n",
    "    else:\n",
    "        plt.show()"
   ]
  },
  {
   "cell_type": "code",
   "execution_count": 29,
   "metadata": {},
   "outputs": [
    {
     "name": "stderr",
     "output_type": "stream",
     "text": [
      "C:\\Users\\ctyja\\workspace\\own\\xrd-anlyutils\\src\\xrd_anlyutils\\math\\roi.py:59: RuntimeWarning: Mean of empty slice\n",
      "  avg = np.nanmean(crop, axis=axis)\n"
     ]
    }
   ],
   "source": [
    "plot_peak_profile(azotrans_I, azotrans_Qxy, azotrans_Qz, 'Azotrans', savepath=plot_path / \"azotrans\", labels=azotrans_pressure)\n",
    "plot_peak_profile(azocis_I, azocis_Qxy, azocis_Qz, 'Azocis', savepath=plot_path / \"azocis\", labels=azocis_pressure)\n",
    "plot_peak_profile(azocis02_I, azocis02_Qxy, azocis02_Qz, 'Azocis02', savepath=plot_path / \"azocis02\", labels=azocis02_pressure)\n",
    "plot_peak_profile(azocis03_I, azocis03_Qxy, azocis03_Qz, 'Azocis03', savepath=plot_path / \"azocis03\", labels=azocis03_pressure)\n",
    "plot_peak_profile(dopc_I, dopc_Qxy, dopc_Qz, 'Dopc', savepath=plot_path / \"dopc\", labels=dopc_pressure)\n",
    "plot_peak_profile(redazo_I, redazo_Qxy, redazo_Qz, 'Redazo', savepath=plot_path / \"redazo\", labels=redazo_pressure)\n"
   ]
  },
  {
   "cell_type": "code",
   "execution_count": null,
   "metadata": {},
   "outputs": [],
   "source": []
  }
 ],
 "metadata": {
  "kernelspec": {
   "display_name": "base",
   "language": "python",
   "name": "python3"
  },
  "language_info": {
   "codemirror_mode": {
    "name": "ipython",
    "version": 3
   },
   "file_extension": ".py",
   "mimetype": "text/x-python",
   "name": "python",
   "nbconvert_exporter": "python",
   "pygments_lexer": "ipython3",
   "version": "3.12.9"
  }
 },
 "nbformat": 4,
 "nbformat_minor": 2
}
